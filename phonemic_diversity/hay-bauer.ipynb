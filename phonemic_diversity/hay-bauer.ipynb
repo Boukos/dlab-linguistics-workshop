{
 "cells": [
  {
   "cell_type": "markdown",
   "metadata": {},
   "source": [
    "# Phoneme inventory size and population size\n",
    "\n",
    "In this notebook, we're going to explore the relationship between the size of phonemic inventories and the population size of the speech community. The first time this relationship was thoroughly investigated was in Hay & Bauer (2007), a high-profile _Language_ paper. The basic finding from Hay & Bauer (2007) is a positive correlation between inventory size and population size, in other words, the more speakers a language has, the bigger its phoneme inventory is likely to be. Since then, many other papers have looked at this same relationship. Atkinson (2011) confirms the original finding, while Donohue & Nichols (2011) and Moran, McCloy & Wright (2012) do not. See also Ladd, Roberts & Dediu (2015) and Roberts & Winters (2013).\n",
    "\n",
    "- Atkinson, Quentin D. \"Phonemic diversity supports a serial founder effect model of language expansion from Africa.\" Science 332.6027 (2011): 346-349.\n",
    "- Donohue, Mark, and Johanna Nichols. \"Does phoneme inventory size correlate with population size?.\" Linguistic Typology 15.2 (2011): 161-170.\n",
    "- Hay, Jennifer, and Laurie Bauer. \"Phoneme inventory size and population size.\" Language 83.2 (2007): 388-400.\n",
    "- Ladd, D. Robert, Seán G. Roberts, and Dan Dediu. \"Correlational studies in typological and historical linguistics.\" Annu. Rev. Linguist. 1.1 (2015): 221-241.\n",
    "- Moran, Steven, Daniel McCloy, and Richard Wright. \"Revisiting population size vs. phoneme inventory size.\" Language 88.4 (2012): 877-893.\n",
    "- Roberts, Seán, and James Winters. \"Linguistic diversity and traffic accidents: Lessons from statistical studies of cultural traits.\" PloS one 8.8 (2013): e70902.\n",
    "\n",
    "As with other notebooks in this workshop, we're not here to settle the matter ourselves. Rather, our goal is to see how to do similar analyses using Python."
   ]
  },
  {
   "cell_type": "markdown",
   "metadata": {},
   "source": [
    "## Data\n",
    "\n",
    "The papers listed above all use different data of various sizes. Hay & Bauer (2007) use a convenience sample of 216 languages. We are going to use [PHOIBLE](http://phoible.org/), which contains the inventories of 2155 dialects(?) from 1672 languages."
   ]
  },
  {
   "cell_type": "markdown",
   "metadata": {},
   "source": [
    "### Downloading PHOIBLE\n",
    "\n",
    "You can download PHOIBLE in various formats from [here](http://phoible.org/download). You can download it in many different ways, including directly from your browser or cloning their github repo. Personally, I prefer running the cell below so that my workflow is reproducible."
   ]
  },
  {
   "cell_type": "code",
   "execution_count": 82,
   "metadata": {},
   "outputs": [
    {
     "name": "stdout",
     "output_type": "stream",
     "text": [
      "env: URL=https://github.com/phoible/dev/archive/v2014.zip\n",
      "LICENSE                \u001b[34mdata\u001b[m\u001b[m                   \u001b[31mphoible-references.bib\u001b[m\u001b[m\n",
      "README.md              phoible-aggregated.tsv\n",
      "\u001b[34mcode\u001b[m\u001b[m                   phoible-phonemes.tsv\n"
     ]
    }
   ],
   "source": [
    "%env URL=https://github.com/phoible/dev/archive/v2014.zip\n",
    "!wget -q -P data $URL\n",
    "!unzip -q -d data/ data/v2014.zip && rm data/v2014.zip\n",
    "!mv data/dev-2014/ data/phoible\n",
    "!ls data/phoible"
   ]
  },
  {
   "cell_type": "code",
   "execution_count": 153,
   "metadata": {},
   "outputs": [
    {
     "name": "stdout",
     "output_type": "stream",
     "text": [
      "README.md                     phoible-segments-features.tsv\r\n"
     ]
    }
   ],
   "source": [
    "!ls data/phoible/data/FEATURES"
   ]
  },
  {
   "cell_type": "markdown",
   "metadata": {},
   "source": [
    "### Preparing PHOIBLE\n",
    "\n",
    "We're going to use three files from what we downloaded: `phoible-aggregated.tsv`, `phoible-phonemes.tsv` and `data/FEATURES/phoible-segments-features.tsv`."
   ]
  },
  {
   "cell_type": "code",
   "execution_count": 160,
   "metadata": {
    "collapsed": true
   },
   "outputs": [],
   "source": [
    "import os\n",
    "\n",
    "phoible_directory = 'data/phoible'\n",
    "phoible_agg_filename = os.path.join(phoible_directory, 'phoible-aggregated.tsv')\n",
    "phoible_phonemes_filename = os.path.join(phoible_directory, 'phoible-phonemes.tsv')\n",
    "phoible_features_filename = os.path.join(phoible_directory, 'data/FEATURES/phoible-segments-features.tsv')"
   ]
  },
  {
   "cell_type": "code",
   "execution_count": 173,
   "metadata": {},
   "outputs": [],
   "source": [
    "agg = pd.read_csv(phoible_agg_filename, sep='\\t')\n",
    "phonemes = pd.read_csv(phoible_phonemes_filename, sep='\\t')\n",
    "features = pd.read_csv(phoible_features_filename, sep='\\t')"
   ]
  },
  {
   "cell_type": "code",
   "execution_count": 178,
   "metadata": {},
   "outputs": [],
   "source": [
    "%matplotlib inline\n",
    "import matplotlib.pyplot as plt\n",
    "import seaborn as sns\n",
    "sns.set()"
   ]
  },
  {
   "cell_type": "code",
   "execution_count": 181,
   "metadata": {},
   "outputs": [
    {
     "data": {
      "image/png": "[encoded data removed]",
      "text/plain": [
       "<matplotlib.figure.Figure at 0x11109fcf8>"
      ]
     },
     "metadata": {},
     "output_type": "display_data"
    }
   ],
   "source": [
    "sns.distplot(agg['Phonemes'], kde=False);"
   ]
  },
  {
   "cell_type": "code",
   "execution_count": 182,
   "metadata": {},
   "outputs": [
    {
     "data": {
      "image/png": "[encoded data removed]",
      "text/plain": [
       "<matplotlib.figure.Figure at 0x111218048>"
      ]
     },
     "metadata": {},
     "output_type": "display_data"
    }
   ],
   "source": [
    "sns.distplot(agg['Consonants'], kde=False);"
   ]
  },
  {
   "cell_type": "code",
   "execution_count": 183,
   "metadata": {},
   "outputs": [
    {
     "data": {
      "image/png": "[encoded data removed]",
      "text/plain": [
       "<matplotlib.figure.Figure at 0x1111a9048>"
      ]
     },
     "metadata": {},
     "output_type": "display_data"
    }
   ],
   "source": [
    "sns.distplot(agg['Vowels'], kde=False);"
   ]
  },
  {
   "cell_type": "markdown",
   "metadata": {},
   "source": [
    "\"Thus, we distinguished between ‘basic monophthongs’, which differ in quality only,\n",
    "and ‘extra monophthongs’, which consisted of nonquality distinctions, such as length\n",
    "and nasalization. The basic monophthong counts are likely to be much more consistent\n",
    "across analysts.\""
   ]
  },
  {
   "cell_type": "markdown",
   "metadata": {},
   "source": [
    "Hay & Bauer (2007: 388) \"An ideal approach to such a sample might be to do random selection from some list\n",
    "such as the Ethnologue (Grimes 1988); however, this would prove impractical in terms\n",
    "of gathering the required additional information\" and \"Languages that were not well described in works easily available in accessible libraries stood very little chance of being selected.\" and \"While the selection was not random, we cannot identify anything in the selection process that would have introduced an artifactual correlation between population size and phoneme inventory.\""
   ]
  },
  {
   "cell_type": "markdown",
   "metadata": {},
   "source": [
    "### Downloading data"
   ]
  },
  {
   "cell_type": "markdown",
   "metadata": {},
   "source": [
    "#### World Phonotactics Database"
   ]
  },
  {
   "cell_type": "code",
   "execution_count": 71,
   "metadata": {},
   "outputs": [
    {
     "name": "stdout",
     "output_type": "stream",
     "text": [
      "env: URL=https://zenodo.org/record/815506/files/phonotactics.csv\n",
      "env: URL=https://zenodo.org/record/815506/files/phonotactics.csv-metadata.json\n",
      "phonotactics.csv           phonotactics_metadata.json\n"
     ]
    }
   ],
   "source": [
    "%env URL=https://zenodo.org/record/815506/files/phonotactics.csv\n",
    "!wget -q -O data/phonotactics/phonotactics.csv $URL\n",
    "\n",
    "%env URL=https://zenodo.org/record/815506/files/phonotactics.csv-metadata.json\n",
    "!wget -q -O data/phonotactics/phonotactics_metadata.json $URL\n",
    "\n",
    "!ls data/phonotactics"
   ]
  },
  {
   "cell_type": "markdown",
   "metadata": {},
   "source": [
    "#### PHOIBLE"
   ]
  },
  {
   "cell_type": "markdown",
   "metadata": {},
   "source": [
    "#### WALS"
   ]
  },
  {
   "cell_type": "code",
   "execution_count": 91,
   "metadata": {},
   "outputs": [
    {
     "name": "stdout",
     "output_type": "stream",
     "text": [
      "env: URL=http://wals.info/static/download/wals-language.csv.zip\n",
      "README.txt wals.csv\n"
     ]
    }
   ],
   "source": [
    "%env URL=http://wals.info/static/download/wals-language.csv.zip\n",
    "!mkdir data/wals\n",
    "!wget -q -P data/wals $URL\n",
    "!unzip -q -d data/wals data/wals/wals-language.csv.zip && rm data/wals/wals-language.csv.zip\n",
    "!mv data/wals/language.csv data/wals/wals.csv\n",
    "!ls data/wals"
   ]
  },
  {
   "cell_type": "markdown",
   "metadata": {},
   "source": [
    "#### Glottolog"
   ]
  },
  {
   "cell_type": "code",
   "execution_count": 124,
   "metadata": {},
   "outputs": [
    {
     "name": "stdout",
     "output_type": "stream",
     "text": [
      "env: URL=http://glottolog.org/static/download/glottolog-languoid.csv.zip\n"
     ]
    }
   ],
   "source": [
    "%env URL=http://glottolog.org/static/download/glottolog-languoid.csv.zip\n",
    "!mkdir data/glottolog\n",
    "!wget -q -P data/glottolog $URL\n",
    "!unzip -q -d data/glottolog data/glottolog/glottolog-languoid.csv.zip && rm data/glottolog/glottolog-languoid.csv.zip\n",
    "!mv data/glottolog/languoid.csv data/glottolog/glottolog.csv"
   ]
  },
  {
   "cell_type": "code",
   "execution_count": 125,
   "metadata": {},
   "outputs": [
    {
     "name": "stdout",
     "output_type": "stream",
     "text": [
      "env: URL=https://raw.githubusercontent.com/clld/glottolog-data/master/languoids/languages.yaml\n",
      "README.txt     glottolog.csv  languages.yaml\n"
     ]
    }
   ],
   "source": [
    "%env URL=https://raw.githubusercontent.com/clld/glottolog-data/master/languoids/languages.yaml\n",
    "!wget -q -O data/glottolog/languages.yaml $URL\n",
    "!ls data/glottolog"
   ]
  },
  {
   "cell_type": "code",
   "execution_count": null,
   "metadata": {
    "collapsed": true
   },
   "outputs": [],
   "source": []
  },
  {
   "cell_type": "code",
   "execution_count": null,
   "metadata": {
    "collapsed": true
   },
   "outputs": [],
   "source": []
  },
  {
   "cell_type": "code",
   "execution_count": null,
   "metadata": {
    "collapsed": true
   },
   "outputs": [],
   "source": []
  },
  {
   "cell_type": "code",
   "execution_count": null,
   "metadata": {
    "collapsed": true
   },
   "outputs": [],
   "source": []
  },
  {
   "cell_type": "code",
   "execution_count": null,
   "metadata": {
    "collapsed": true
   },
   "outputs": [],
   "source": []
  },
  {
   "cell_type": "markdown",
   "metadata": {},
   "source": [
    "## Alternative source of data\n",
    "\n",
    "When I was googling around to find the original Hay & Bauer (2007) data, I found [this blog post](https://dlc.hypotheses.org/470) by [Gerhard Jager](http://www.sfs.uni-tuebingen.de/~gjaeger/). Rather than using the PHOIBLE data like we did, he estimated the number of phonemes in a language from parallel wordlists. In particular, the number of different characters in the wordlist for each language was the estimate of the number of phonemes. He admits it's not the best method, and I agree (especially when we *do* have PHOIBLE), but I thought replicating it would be a good exercise.\n",
    "\n",
    "Jager uses the [Automated Similarity Judgement Program Database](http://asjp.clld.org/), which (as of the time of writing) has 40 item wordlists from 7221 languages. The data also contains the population size (from Glottolog I think). You can download a tab separated file from [here](http://asjp.clld.org/download).\n",
    "\n",
    "- Estimate the number of phonemes for each language from its wordlist.\n",
    "- Do these estimates match up with PHOIBLE's numbers?\n",
    "- To what extent does the population data in ASJP match the PHOIBLE data?\n",
    "- Examine the relationship between ASJP population size and your estimate of phonemic inventory size from ASJP."
   ]
  },
  {
   "cell_type": "code",
   "execution_count": 128,
   "metadata": {},
   "outputs": [
    {
     "name": "stdout",
     "output_type": "stream",
     "text": [
      "env: URL=http://asjp.clld.org/static/download/asjp-dataset.tab.zip\n",
      "Archive:  data/asjp/asjp.zip\n",
      "  inflating: data/asjp/dataset.tab   \n",
      "  inflating: data/asjp/README.txt    \n",
      "README.txt  dataset.tab\n"
     ]
    }
   ],
   "source": [
    "%env URL=http://asjp.clld.org/static/download/asjp-dataset.tab.zip\n",
    "!mkdir data/asjp\n",
    "!wget -q -O data/asjp/asjp.zip $URL\n",
    "!unzip -d data/asjp data/asjp/asjp.zip && rm data/asjp/asjp.zip\n",
    "!ls data/asjp"
   ]
  },
  {
   "cell_type": "code",
   "execution_count": 130,
   "metadata": {},
   "outputs": [],
   "source": [
    "df = pd.read_csv('data/asjp/dataset.tab', sep='\\t')"
   ]
  },
  {
   "cell_type": "code",
   "execution_count": 137,
   "metadata": {},
   "outputs": [
    {
     "data": {
      "text/plain": [
       "(7221, 110)"
      ]
     },
     "execution_count": 137,
     "metadata": {},
     "output_type": "execute_result"
    }
   ],
   "source": [
    "df.shape"
   ]
  },
  {
   "cell_type": "code",
   "execution_count": null,
   "metadata": {
    "collapsed": true
   },
   "outputs": [],
   "source": []
  }
 ],
 "metadata": {
  "kernelspec": {
   "display_name": "Python 3",
   "language": "python",
   "name": "python3"
  },
  "language_info": {
   "codemirror_mode": {
    "name": "ipython",
    "version": 3
   },
   "file_extension": ".py",
   "mimetype": "text/x-python",
   "name": "python",
   "nbconvert_exporter": "python",
   "pygments_lexer": "ipython3",
   "version": "3.6.1"
  }
 },
 "nbformat": 4,
 "nbformat_minor": 2
}
