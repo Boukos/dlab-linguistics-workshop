{
 "cells": [
  {
   "cell_type": "markdown",
   "metadata": {},
   "source": [
    "# Python concepts 2\n",
    "\n",
    "In this notebook, we are going to continue to cover all the Python concepts that you will need to complete the Futrell et al. replication. If you haven't already worked through [Python concepts](python-concepts-workbook.ipynb), please find time to do so."
   ]
  },
  {
   "cell_type": "markdown",
   "metadata": {},
   "source": [
    "## Defining functions\n",
    "\n",
    "A function in a programming language is exactly like a function in maths (e.g. the cosine function, or the function $f(x) = x^2$). It takes in some input, does some computation, and gives you back the output. In maths, the functions usually just work on single numbers. But in Python, we have functions that work on many different types of objects. You've been using functions for a while in Python. Here are some examples of functions.\n",
    "\n",
    "#### The `open` function\n",
    "\n",
    "`open` takes in as input a string representing a path to a file, and gives you back as output a `file` object, which you can then read or write."
   ]
  },
  {
   "cell_type": "code",
   "execution_count": 1,
   "metadata": {
    "collapsed": true
   },
   "outputs": [],
   "source": [
    "f = open('data/myfile.txt')"
   ]
  },
  {
   "cell_type": "markdown",
   "metadata": {},
   "source": [
    "#### The `len` function\n",
    "\n",
    "The `len` function tells you how long its argument is. You can pass in many different types as its argument."
   ]
  },
  {
   "cell_type": "code",
   "execution_count": 2,
   "metadata": {},
   "outputs": [
    {
     "data": {
      "text/plain": [
       "5"
      ]
     },
     "execution_count": 2,
     "metadata": {},
     "output_type": "execute_result"
    }
   ],
   "source": [
    "mylist = [1,2,3,4,5]\n",
    "len(mylist)"
   ]
  },
  {
   "cell_type": "code",
   "execution_count": 3,
   "metadata": {},
   "outputs": [
    {
     "data": {
      "text/plain": [
       "15"
      ]
     },
     "execution_count": 3,
     "metadata": {},
     "output_type": "execute_result"
    }
   ],
   "source": [
    "mystring = 'hello everyone!'\n",
    "len(mystring)"
   ]
  },
  {
   "cell_type": "markdown",
   "metadata": {},
   "source": [
    "#### The `min` function\n",
    "\n",
    "`min` can take in arguments in one of two ways. It can either take in a list (or something similar) and it will return to you the smallest element of the list. Or it can take as input two or more objects, and it will give you the smallest one of those."
   ]
  },
  {
   "cell_type": "code",
   "execution_count": 4,
   "metadata": {},
   "outputs": [
    {
     "data": {
      "text/plain": [
       "1"
      ]
     },
     "execution_count": 4,
     "metadata": {},
     "output_type": "execute_result"
    }
   ],
   "source": [
    "mylist = [1,2,3,4,5]\n",
    "min(mylist)"
   ]
  },
  {
   "cell_type": "code",
   "execution_count": 5,
   "metadata": {},
   "outputs": [
    {
     "data": {
      "text/plain": [
       "1"
      ]
     },
     "execution_count": 5,
     "metadata": {},
     "output_type": "execute_result"
    }
   ],
   "source": [
    "min(1,2,3,4,5)"
   ]
  },
  {
   "cell_type": "markdown",
   "metadata": {},
   "source": [
    "#### The `int` function\n",
    "\n",
    "`int` will take an object and try to convert it to an integer. If it doesn't make sense to coerce that object to an integer, it will raise an error."
   ]
  },
  {
   "cell_type": "code",
   "execution_count": 6,
   "metadata": {},
   "outputs": [
    {
     "name": "stdout",
     "output_type": "stream",
     "text": [
      "<class 'float'>\n",
      "<class 'int'>\n"
     ]
    }
   ],
   "source": [
    "x = 12.0\n",
    "print(type(x))\n",
    "y = int(x)\n",
    "print(type(y))"
   ]
  },
  {
   "cell_type": "markdown",
   "metadata": {},
   "source": [
    "#### The `pow` function\n",
    "\n",
    "`pow` is the power function in Python. There's a shorthand for it: `pow(2,4)` is the same as `2**4`, which both raise 2 to the power of 4."
   ]
  },
  {
   "cell_type": "code",
   "execution_count": 7,
   "metadata": {},
   "outputs": [
    {
     "data": {
      "text/plain": [
       "16"
      ]
     },
     "execution_count": 7,
     "metadata": {},
     "output_type": "execute_result"
    }
   ],
   "source": [
    "pow(2, 4)"
   ]
  },
  {
   "cell_type": "markdown",
   "metadata": {},
   "source": [
    "#### The `print` function\n",
    "\n",
    "`print` is a special function that can take just about anything as input, and it will return `None`. But as a side-effect, it prints a representation of that object, normally to your screen."
   ]
  },
  {
   "cell_type": "code",
   "execution_count": 8,
   "metadata": {},
   "outputs": [
    {
     "name": "stdout",
     "output_type": "stream",
     "text": [
      "this is my string\n"
     ]
    },
    {
     "data": {
      "text/plain": [
       "NoneType"
      ]
     },
     "execution_count": 8,
     "metadata": {},
     "output_type": "execute_result"
    }
   ],
   "source": [
    "x = print('this is my string')\n",
    "type(x)"
   ]
  },
  {
   "cell_type": "markdown",
   "metadata": {},
   "source": [
    "#### The `round` function\n",
    "\n",
    "`round` rounds its numeric input to as many decimal places as you want. If you don't tell it how many places to round to, it will round to the nearest integer."
   ]
  },
  {
   "cell_type": "code",
   "execution_count": 9,
   "metadata": {},
   "outputs": [
    {
     "data": {
      "text/plain": [
       "2.35"
      ]
     },
     "execution_count": 9,
     "metadata": {},
     "output_type": "execute_result"
    }
   ],
   "source": [
    "round(2.3456789, 2)"
   ]
  },
  {
   "cell_type": "code",
   "execution_count": 11,
   "metadata": {},
   "outputs": [
    {
     "data": {
      "text/plain": [
       "2.345679"
      ]
     },
     "execution_count": 11,
     "metadata": {},
     "output_type": "execute_result"
    }
   ],
   "source": [
    "round(2.3456789, 6)"
   ]
  },
  {
   "cell_type": "code",
   "execution_count": 12,
   "metadata": {},
   "outputs": [
    {
     "data": {
      "text/plain": [
       "2"
      ]
     },
     "execution_count": 12,
     "metadata": {},
     "output_type": "execute_result"
    }
   ],
   "source": [
    "round(2.3456789)"
   ]
  },
  {
   "cell_type": "markdown",
   "metadata": {},
   "source": [
    "#### The `sorted` function\n",
    "\n",
    "`sorted` takes in a list (or something similar) and returns a sorted version of it. `sorted` knows how to sort numbers and strings already."
   ]
  },
  {
   "cell_type": "code",
   "execution_count": 13,
   "metadata": {},
   "outputs": [
    {
     "data": {
      "text/plain": [
       "[0, 1, 3, 3, 6, 7, 9]"
      ]
     },
     "execution_count": 13,
     "metadata": {},
     "output_type": "execute_result"
    }
   ],
   "source": [
    "mylist = [6,3,9,1,3,7,0]\n",
    "sorted(mylist)"
   ]
  },
  {
   "cell_type": "code",
   "execution_count": 15,
   "metadata": {},
   "outputs": [
    {
     "name": "stdout",
     "output_type": "stream",
     "text": [
      "['this', 'is', 'going', 'to', 'be', 'a', 'list', 'of', 'strings', 'in', 'a', 'second']\n",
      "['a', 'a', 'be', 'going', 'in', 'is', 'list', 'of', 'second', 'strings', 'this', 'to']\n"
     ]
    }
   ],
   "source": [
    "mylist = 'this is going to be a list of strings in a second'.split()\n",
    "print(mylist)\n",
    "print(sorted(mylist))"
   ]
  },
  {
   "cell_type": "markdown",
   "metadata": {},
   "source": [
    "All these functions come built in with Python. They are called [built-in function](https://docs.python.org/3/library/functions.html). They are available to you as soon as you start Python (whether from the terminal, or a script, or in a Jupyter notebook). You never have to import them. These functions are very general. They come \"built in\" to Python because everyone needs them. But we can't do everything we want with just these functions. As a linguist, you may want a function that takes in a corpus and returns all the nouns. Or a function that takes in a path to a folder on your computer and returns all the files in that directory that have more than 100 words. In most cases, we have to create our own functions that suit our purpose. **In Python, \"creating\" a function is called \"defining\" it.**\n",
    "\n",
    "Let's define a function."
   ]
  },
  {
   "cell_type": "code",
   "execution_count": 22,
   "metadata": {
    "collapsed": true
   },
   "outputs": [],
   "source": [
    "def add_two(x):\n",
    "    return x + 2"
   ]
  },
  {
   "cell_type": "markdown",
   "metadata": {},
   "source": [
    "After we have defined our function, we can \"call\" it. \"Calling\" a function is a fancy way of saying \"using\" a function. Let's call our new function with the argument `5`."
   ]
  },
  {
   "cell_type": "code",
   "execution_count": 23,
   "metadata": {},
   "outputs": [
    {
     "data": {
      "text/plain": [
       "7"
      ]
     },
     "execution_count": 23,
     "metadata": {},
     "output_type": "execute_result"
    }
   ],
   "source": [
    "add_two(5)"
   ]
  },
  {
   "cell_type": "markdown",
   "metadata": {},
   "source": [
    "The syntax for defining a function in Python is this:\n",
    "\n",
    "```\n",
    "def function_name(input):\n",
    "    ...\n",
    "    return output\n",
    "```\n",
    "\n",
    "We begin with the special keyword `def`. Then we put the name we want our new function to have. We follow that with parentheses. In between the parentheses, we put the arguments we want our function to take. If we want a function that takes more than one argument, we separate them with commas. Then we finish that line with a semi-colon. Everything after that must be indented, normally using four spaces. We can put whatever code we want where the `...` is. This is where the work is done. After we've computed whatever we want, we use the keyword `return` followed by whatever we want the function to return. Let's see some examples"
   ]
  },
  {
   "cell_type": "code",
   "execution_count": 24,
   "metadata": {
    "collapsed": true
   },
   "outputs": [],
   "source": [
    "def square(n):\n",
    "    return n**2"
   ]
  },
  {
   "cell_type": "markdown",
   "metadata": {},
   "source": [
    "You can read out this function definition as follows:\n",
    "\n",
    "> Define a function called `square` that takes in an argument that will be referred to hereafter as `n`. Whenever I call this argument in the future, it will `return` to me `n**2` (which is `n` squared)."
   ]
  },
  {
   "cell_type": "code",
   "execution_count": 25,
   "metadata": {},
   "outputs": [
    {
     "data": {
      "text/plain": [
       "4"
      ]
     },
     "execution_count": 25,
     "metadata": {},
     "output_type": "execute_result"
    }
   ],
   "source": [
    "square(2)"
   ]
  },
  {
   "cell_type": "code",
   "execution_count": 26,
   "metadata": {
    "collapsed": true
   },
   "outputs": [],
   "source": [
    "def add_one_then_square(t):\n",
    "    return (t+1)**2"
   ]
  },
  {
   "cell_type": "markdown",
   "metadata": {},
   "source": [
    "You can read out this function definition as follows:\n",
    "\n",
    "> Define a function called `add_one_then_square` that takes in an argument that will be referred to hereafter as `t`. Whenever I call this argument in the future, it will `return` to me `(t+1)**2` (which is `t` plus one, all squared)."
   ]
  },
  {
   "cell_type": "code",
   "execution_count": 27,
   "metadata": {},
   "outputs": [
    {
     "data": {
      "text/plain": [
       "25"
      ]
     },
     "execution_count": 27,
     "metadata": {},
     "output_type": "execute_result"
    }
   ],
   "source": [
    "add_one_then_square(4)"
   ]
  },
  {
   "cell_type": "markdown",
   "metadata": {},
   "source": [
    "When you define a function, Python doesn't run the body of the function. All it does is create a new variable with the function name and remember where to look whenever you call it."
   ]
  },
  {
   "cell_type": "code",
   "execution_count": 28,
   "metadata": {
    "collapsed": true
   },
   "outputs": [],
   "source": [
    "def add_one_then_square(s):\n",
    "    return square(s+1)"
   ]
  },
  {
   "cell_type": "markdown",
   "metadata": {},
   "source": [
    "Here, we are overwriting the name `add_one_then_square`. We are using our `square` function instead of the usual `s**2`."
   ]
  },
  {
   "cell_type": "code",
   "execution_count": 29,
   "metadata": {},
   "outputs": [
    {
     "data": {
      "text/plain": [
       "16"
      ]
     },
     "execution_count": 29,
     "metadata": {},
     "output_type": "execute_result"
    }
   ],
   "source": [
    "add_one_then_square(3)"
   ]
  },
  {
   "cell_type": "code",
   "execution_count": 30,
   "metadata": {
    "collapsed": true
   },
   "outputs": [],
   "source": [
    "def has_b(word):\n",
    "    return word.count('b') > 0"
   ]
  },
  {
   "cell_type": "code",
   "execution_count": 31,
   "metadata": {},
   "outputs": [
    {
     "data": {
      "text/plain": [
       "False"
      ]
     },
     "execution_count": 31,
     "metadata": {},
     "output_type": "execute_result"
    }
   ],
   "source": [
    "has_b('hello')"
   ]
  },
  {
   "cell_type": "code",
   "execution_count": 32,
   "metadata": {},
   "outputs": [
    {
     "data": {
      "text/plain": [
       "True"
      ]
     },
     "execution_count": 32,
     "metadata": {},
     "output_type": "execute_result"
    }
   ],
   "source": [
    "has_b('baboon')"
   ]
  },
  {
   "cell_type": "code",
   "execution_count": 34,
   "metadata": {
    "collapsed": true
   },
   "outputs": [],
   "source": [
    "def sign(k):\n",
    "    if k < 0:\n",
    "        return 'negative'\n",
    "    elif k > 0:\n",
    "        return 'positive'\n",
    "    else:\n",
    "        return 'zero'"
   ]
  },
  {
   "cell_type": "markdown",
   "metadata": {},
   "source": [
    "We can use conditional statements in functions. At most one of these return statements will ever be run. Also, we can `return` whatever we want. Here, we are returning strings."
   ]
  },
  {
   "cell_type": "code",
   "execution_count": 35,
   "metadata": {},
   "outputs": [
    {
     "data": {
      "text/plain": [
       "'positive'"
      ]
     },
     "execution_count": 35,
     "metadata": {},
     "output_type": "execute_result"
    }
   ],
   "source": [
    "sign(4)"
   ]
  },
  {
   "cell_type": "code",
   "execution_count": 36,
   "metadata": {
    "collapsed": true
   },
   "outputs": [],
   "source": [
    "def long_function(n):\n",
    "    intermediate_value = n + 1\n",
    "    another_value = 3 * intermediate_value + 4\n",
    "    second_last_value = (another_value / 8) ** 3\n",
    "    last_value = square(round(second_last_value))\n",
    "    return last_value"
   ]
  },
  {
   "cell_type": "markdown",
   "metadata": {},
   "source": [
    "The body of a function can be as long as we want. We can create as many variables along the way as we want. But notice that none of those intermediate values that we create are available to us outside of that function. In fact, the argument that we pass in is not available to us called `n` outside of the function. However, within the function, we refer to the argument using the name that we gave it at the start."
   ]
  },
  {
   "cell_type": "code",
   "execution_count": 37,
   "metadata": {},
   "outputs": [
    {
     "data": {
      "text/plain": [
       "441"
      ]
     },
     "execution_count": 37,
     "metadata": {},
     "output_type": "execute_result"
    }
   ],
   "source": [
    "long_function(5)"
   ]
  },
  {
   "cell_type": "code",
   "execution_count": 38,
   "metadata": {},
   "outputs": [
    {
     "ename": "NameError",
     "evalue": "name 'intermediate_value' is not defined",
     "output_type": "error",
     "traceback": [
      "\u001b[0;31m---------------------------------------------------------------------------\u001b[0m",
      "\u001b[0;31mNameError\u001b[0m                                 Traceback (most recent call last)",
      "\u001b[0;32m<ipython-input-38-b1d1f2ece5b7>\u001b[0m in \u001b[0;36m<module>\u001b[0;34m()\u001b[0m\n\u001b[0;32m----> 1\u001b[0;31m \u001b[0mintermediate_value\u001b[0m\u001b[0;34m\u001b[0m\u001b[0m\n\u001b[0m",
      "\u001b[0;31mNameError\u001b[0m: name 'intermediate_value' is not defined"
     ]
    }
   ],
   "source": [
    "intermediate_value"
   ]
  },
  {
   "cell_type": "code",
   "execution_count": 39,
   "metadata": {},
   "outputs": [
    {
     "ename": "NameError",
     "evalue": "name 'n' is not defined",
     "output_type": "error",
     "traceback": [
      "\u001b[0;31m---------------------------------------------------------------------------\u001b[0m",
      "\u001b[0;31mNameError\u001b[0m                                 Traceback (most recent call last)",
      "\u001b[0;32m<ipython-input-39-fe13119fb084>\u001b[0m in \u001b[0;36m<module>\u001b[0;34m()\u001b[0m\n\u001b[0;32m----> 1\u001b[0;31m \u001b[0mn\u001b[0m\u001b[0;34m\u001b[0m\u001b[0m\n\u001b[0m",
      "\u001b[0;31mNameError\u001b[0m: name 'n' is not defined"
     ]
    }
   ],
   "source": [
    "n"
   ]
  },
  {
   "cell_type": "code",
   "execution_count": 46,
   "metadata": {
    "collapsed": true
   },
   "outputs": [],
   "source": [
    "def two_argument_function(x, y):\n",
    "    if x > y:\n",
    "        return 7\n",
    "    elif x < y:\n",
    "        return min(x, 5)\n",
    "    else:\n",
    "        return max(y, 9)"
   ]
  },
  {
   "cell_type": "code",
   "execution_count": 47,
   "metadata": {},
   "outputs": [
    {
     "data": {
      "text/plain": [
       "9"
      ]
     },
     "execution_count": 47,
     "metadata": {},
     "output_type": "execute_result"
    }
   ],
   "source": [
    "two_argument_function(2, 2)"
   ]
  },
  {
   "cell_type": "markdown",
   "metadata": {},
   "source": [
    "#### Challenge 1\n",
    "\n",
    "What type is the function `square`? What type is the function `len`?"
   ]
  },
  {
   "cell_type": "code",
   "execution_count": 48,
   "metadata": {},
   "outputs": [
    {
     "name": "stdout",
     "output_type": "stream",
     "text": [
      "<class 'function'>\n",
      "<class 'builtin_function_or_method'>\n"
     ]
    }
   ],
   "source": [
    "print(type(square))\n",
    "print(type(len))"
   ]
  },
  {
   "cell_type": "markdown",
   "metadata": {},
   "source": [
    "#### Challenge 2\n",
    "\n",
    "Define a function that takes in as an argument a number and subtracts 4 from it. Make sure to give it a sensible name. Test your function by calling it on the argument `5`."
   ]
  },
  {
   "cell_type": "code",
   "execution_count": 50,
   "metadata": {},
   "outputs": [
    {
     "data": {
      "text/plain": [
       "1"
      ]
     },
     "execution_count": 50,
     "metadata": {},
     "output_type": "execute_result"
    }
   ],
   "source": [
    "def subtract_four(n):\n",
    "    return n - 4\n",
    "\n",
    "subtract_four(5)"
   ]
  },
  {
   "cell_type": "markdown",
   "metadata": {},
   "source": [
    "- What is the type of `subtract_four(3)`?\n",
    "- What happens if you call your function on `'hello'`?"
   ]
  },
  {
   "cell_type": "markdown",
   "metadata": {},
   "source": [
    "#### Challenge 3\n",
    "\n",
    "Write a function that takes in three arguments. If all the arguments are the same, it should return the string `'same'`. If they're different, it should return the largest one. Give it a sensible name. Test it on the arguments `2, 2, 2` and `2, 3, 4` to make sure it does the right thing."
   ]
  },
  {
   "cell_type": "code",
   "execution_count": 51,
   "metadata": {
    "collapsed": true
   },
   "outputs": [],
   "source": [
    "def same_or_max(x, y, z):\n",
    "    if x == y == z:\n",
    "        return 'same'\n",
    "    else:\n",
    "        return max(x, y, z)"
   ]
  },
  {
   "cell_type": "code",
   "execution_count": 53,
   "metadata": {},
   "outputs": [
    {
     "data": {
      "text/plain": [
       "4"
      ]
     },
     "execution_count": 53,
     "metadata": {},
     "output_type": "execute_result"
    }
   ],
   "source": [
    "same_or_max(2,3,4)"
   ]
  },
  {
   "cell_type": "markdown",
   "metadata": {},
   "source": [
    "#### Challenge 4\n",
    "\n",
    "Write a function that takes in a string representing a file path. The function should open that file, read in the contents, split the contents by whitespace, and return all the words that start with 'b'. Test it on `data/italian.txt`."
   ]
  },
  {
   "cell_type": "code",
   "execution_count": 56,
   "metadata": {
    "collapsed": true
   },
   "outputs": [],
   "source": [
    "def b_words(path):\n",
    "    with open(path) as f:\n",
    "        contents = f.read()\n",
    "    text = contents.split()\n",
    "    return [w for w in text if w.startswith('b')]"
   ]
  },
  {
   "cell_type": "code",
   "execution_count": 57,
   "metadata": {},
   "outputs": [
    {
     "data": {
      "text/plain": [
       "['battaglia',\n",
       " 'by',\n",
       " 'battaglia',\n",
       " 'by',\n",
       " 'bene',\n",
       " 'brevissime',\n",
       " 'buoni,',\n",
       " 'bastata',\n",
       " 'benefattori,',\n",
       " 'burrone:',\n",
       " 'bene,',\n",
       " 'beati',\n",
       " 'buoni;--e',\n",
       " 'buono',\n",
       " 'buonissimo',\n",
       " 'bene',\n",
       " 'bene,',\n",
       " 'buono,',\n",
       " 'bello.',\n",
       " 'buono,',\n",
       " 'bisogna',\n",
       " 'buona',\n",
       " 'bensì',\n",
       " 'buono',\n",
       " 'ben',\n",
       " 'bene',\n",
       " 'bella',\n",
       " 'basta',\n",
       " 'ben',\n",
       " 'braccia',\n",
       " 'bellezza',\n",
       " 'bel',\n",
       " 'bene',\n",
       " 'battaglia....',\n",
       " 'braccio',\n",
       " 'buio',\n",
       " 'bella',\n",
       " 'biondissimi',\n",
       " 'bacio',\n",
       " 'ben',\n",
       " 'baloardi,',\n",
       " 'ballata',\n",
       " 'benedetto',\n",
       " 'buono',\n",
       " 'braccio',\n",
       " 'ben',\n",
       " 'bocca',\n",
       " 'blandire',\n",
       " 'bello',\n",
       " 'bianco',\n",
       " 'bisogno',\n",
       " 'ballata,',\n",
       " 'balza',\n",
       " 'bellissimo',\n",
       " 'bellezza.',\n",
       " 'brillano',\n",
       " 'bella,',\n",
       " 'bellezza',\n",
       " 'bellezza',\n",
       " 'bellezza',\n",
       " 'belle',\n",
       " 'benedisse',\n",
       " 'beltà:',\n",
       " 'balcone:',\n",
       " 'balena',\n",
       " 'balcone,',\n",
       " 'bene',\n",
       " 'balsamo',\n",
       " 'benedizione;',\n",
       " 'bello',\n",
       " 'bene,',\n",
       " 'bella',\n",
       " 'braccio',\n",
       " 'bellezza!--Santa',\n",
       " 'beva',\n",
       " 'barone,',\n",
       " 'begli',\n",
       " 'benigna',\n",
       " 'bensì',\n",
       " 'benedica,',\n",
       " 'bene',\n",
       " 'basti',\n",
       " 'bisogno',\n",
       " 'braccio',\n",
       " 'braccio',\n",
       " 'braccio',\n",
       " 'brutte',\n",
       " 'bene',\n",
       " 'benigno',\n",
       " 'belle;',\n",
       " 'benigno',\n",
       " 'belle....»',\n",
       " 'breve',\n",
       " 'beffa:',\n",
       " 'brutte',\n",
       " 'bella',\n",
       " 'bene',\n",
       " 'bene',\n",
       " 'benedetta!',\n",
       " 'buona',\n",
       " 'bastarda',\n",
       " 'bianche',\n",
       " 'bastardigia;',\n",
       " 'buona',\n",
       " 'ben',\n",
       " 'bel',\n",
       " 'ben',\n",
       " 'bere.',\n",
       " 'belle',\n",
       " 'benignanza',\n",
       " 'breve',\n",
       " 'bella',\n",
       " 'bella.',\n",
       " 'bevendo',\n",
       " 'braccio',\n",
       " 'bassamente',\n",
       " 'braccia',\n",
       " 'bocca',\n",
       " 'bramire',\n",
       " 'bassi,',\n",
       " 'braccio',\n",
       " 'bruttezza',\n",
       " 'bene',\n",
       " 'bellezza?--Forse',\n",
       " 'bello?',\n",
       " 'beltà:',\n",
       " 'bensì',\n",
       " 'bene',\n",
       " 'bai',\n",
       " 'bada',\n",
       " 'bene.',\n",
       " 'belle',\n",
       " 'bellezza',\n",
       " 'basse',\n",
       " 'basti,',\n",
       " 'bene,',\n",
       " 'brillare',\n",
       " 'bellezza;--ma',\n",
       " 'biasimato.',\n",
       " 'brevi',\n",
       " 'basti,',\n",
       " 'bene,',\n",
       " 'bestemmie,',\n",
       " 'bestemmiate....»',\n",
       " 'badate,',\n",
       " 'bellezza',\n",
       " 'buon',\n",
       " 'briglia',\n",
       " 'battaglie',\n",
       " 'braccio,',\n",
       " 'basterà',\n",
       " 'belle',\n",
       " 'bronzo,',\n",
       " 'bellezza',\n",
       " 'bene',\n",
       " 'bene',\n",
       " 'ben',\n",
       " 'balzati',\n",
       " 'bene,',\n",
       " 'baldanzosa,',\n",
       " 'battaglia,',\n",
       " 'bella',\n",
       " 'bacio',\n",
       " 'breve',\n",
       " 'benchè',\n",
       " 'buon',\n",
       " 'bacio',\n",
       " 'badò,',\n",
       " 'ben',\n",
       " 'batteva...',\n",
       " 'batteva:',\n",
       " 'bella.',\n",
       " 'bene.--Povera',\n",
       " 'battaglia...',\n",
       " 'ben',\n",
       " 'bonum',\n",
       " 'benefizio,',\n",
       " 'baciandola;',\n",
       " 'braccio',\n",
       " 'bassa',\n",
       " 'bisogno',\n",
       " 'balcone',\n",
       " 'beccatelli',\n",
       " 'benchè',\n",
       " 'balenava',\n",
       " 'brivido',\n",
       " 'ben',\n",
       " 'brancolando',\n",
       " 'bottone',\n",
       " 'braccia',\n",
       " 'bentosto',\n",
       " 'benchè',\n",
       " 'belli....',\n",
       " 'bianca',\n",
       " 'bellezza?',\n",
       " 'braccia',\n",
       " 'buon',\n",
       " 'bello',\n",
       " 'biada',\n",
       " 'braccio.',\n",
       " 'bottoni',\n",
       " 'bottone',\n",
       " 'brevità',\n",
       " 'berretta,',\n",
       " 'belle',\n",
       " 'bestemmia.',\n",
       " 'balzato',\n",
       " 'bestialmente',\n",
       " 'balzava',\n",
       " 'bestemmie,',\n",
       " 'ben',\n",
       " 'beni,',\n",
       " 'braccio',\n",
       " 'bisogna',\n",
       " 'basse',\n",
       " 'ben',\n",
       " 'bene,',\n",
       " 'bocca',\n",
       " 'bocca,',\n",
       " 'brivido',\n",
       " 'battere:',\n",
       " 'braccia',\n",
       " 'bocca?',\n",
       " 'braccia',\n",
       " 'bel',\n",
       " 'basso,',\n",
       " 'bel',\n",
       " 'ben',\n",
       " 'braccia',\n",
       " 'braccio',\n",
       " 'buona',\n",
       " 'bocca',\n",
       " 'bene,',\n",
       " 'bendi',\n",
       " 'bocca',\n",
       " 'buona',\n",
       " 'bendati',\n",
       " 'braccio',\n",
       " 'battendo',\n",
       " 'bella',\n",
       " 'bendata',\n",
       " 'benissimo',\n",
       " 'benda.»',\n",
       " 'bene',\n",
       " 'bensì',\n",
       " 'benedire,',\n",
       " 'braccia',\n",
       " 'bocca',\n",
       " 'baciando,',\n",
       " 'bestie',\n",
       " 'bennati',\n",
       " 'badargli',\n",
       " 'balzò',\n",
       " 'braccia',\n",
       " 'breve',\n",
       " 'bramito',\n",
       " 'brillare',\n",
       " 'brilli.',\n",
       " 'benchè',\n",
       " 'bocche',\n",
       " 'bagna',\n",
       " 'bene',\n",
       " 'bassezza',\n",
       " 'bandiere',\n",
       " 'baroni,',\n",
       " 'ben',\n",
       " 'bel',\n",
       " 'bando',\n",
       " 'bellissime',\n",
       " 'ben',\n",
       " 'buoni',\n",
       " 'bene',\n",
       " 'barbaro',\n",
       " 'beni',\n",
       " 'burlevole',\n",
       " 'baciassero',\n",
       " 'bacio',\n",
       " 'bassa',\n",
       " 'battaglia',\n",
       " 'brevità,',\n",
       " 'banchettare',\n",
       " 'bellezza',\n",
       " 'braccio,',\n",
       " 'battaglia',\n",
       " 'benevolo',\n",
       " 'buon',\n",
       " 'bene',\n",
       " 'bandiva:',\n",
       " 'brani',\n",
       " 'brani,',\n",
       " 'bene,',\n",
       " 'bando',\n",
       " 'blocco.',\n",
       " 'battiture',\n",
       " 'breve,',\n",
       " 'bando',\n",
       " 'bene',\n",
       " 'battaglia.',\n",
       " 'bovi,',\n",
       " 'baldanzosa',\n",
       " 'beverselo',\n",
       " 'buoni,',\n",
       " 'barca,',\n",
       " 'bisogno',\n",
       " 'bambinello',\n",
       " 'braccio,--e',\n",
       " 'bello;',\n",
       " 'bollito,',\n",
       " 'ben',\n",
       " 'baluardo',\n",
       " 'battaglia',\n",
       " 'borgo,',\n",
       " 'battaglia:',\n",
       " 'bresciane,',\n",
       " 'biasimasse',\n",
       " 'battaglia',\n",
       " 'baciare',\n",
       " 'basiliscum',\n",
       " 'bellissime',\n",
       " 'buon',\n",
       " 'benigna',\n",
       " 'beni,',\n",
       " 'bagnandosi',\n",
       " 'brevissima',\n",
       " 'breve,',\n",
       " 'braccio',\n",
       " 'battesimo',\n",
       " 'ben',\n",
       " 'buona',\n",
       " 'breve',\n",
       " 'buono',\n",
       " 'bando,',\n",
       " 'bene',\n",
       " 'buono,',\n",
       " 'battesimo.',\n",
       " 'buon',\n",
       " 'ben',\n",
       " 'breve',\n",
       " 'battaglia',\n",
       " 'battaglia:',\n",
       " 'battaglia,',\n",
       " 'barbarie',\n",
       " 'ben',\n",
       " 'buono',\n",
       " 'battaglia,',\n",
       " 'ben',\n",
       " 'benanche',\n",
       " 'bene.',\n",
       " 'bere',\n",
       " 'bevanda',\n",
       " \"buon'anima\",\n",
       " 'bizzarro',\n",
       " \"bell'ingegno\",\n",
       " 'braccia;',\n",
       " 'birro',\n",
       " 'brulichío',\n",
       " 'buona',\n",
       " 'benigno',\n",
       " 'bello',\n",
       " 'borghi,',\n",
       " 'battaglie.',\n",
       " 'biondi',\n",
       " 'buona',\n",
       " 'breve',\n",
       " 'ben',\n",
       " 'balsamo',\n",
       " 'bene,',\n",
       " 'breve',\n",
       " 'belle',\n",
       " 'banchetto:',\n",
       " 'buon',\n",
       " 'bocca',\n",
       " 'bevve',\n",
       " 'balzato',\n",
       " 'baliato',\n",
       " 'buon',\n",
       " 'briglia,',\n",
       " 'bene',\n",
       " 'battaglia;',\n",
       " 'barbuta',\n",
       " 'buon',\n",
       " 'buon',\n",
       " 'borgo,',\n",
       " 'borgo',\n",
       " 'borgo;',\n",
       " 'balestra,',\n",
       " 'burrasca,',\n",
       " 'bagnano',\n",
       " 'battaglia',\n",
       " 'baleni',\n",
       " 'balzarono',\n",
       " 'bel',\n",
       " 'baldanzosa',\n",
       " 'bello,',\n",
       " 'bensì',\n",
       " 'breve',\n",
       " 'braccio',\n",
       " 'buio',\n",
       " 'bel',\n",
       " 'belli',\n",
       " 'bene',\n",
       " 'bocca',\n",
       " 'buona',\n",
       " 'benissimo,',\n",
       " 'buono.»',\n",
       " 'buono;»',\n",
       " 'buoni',\n",
       " 'ben',\n",
       " 'bene,',\n",
       " 'bel',\n",
       " 'bestie....',\n",
       " 'bel',\n",
       " 'ballata.»',\n",
       " 'bel',\n",
       " 'balestra,',\n",
       " 'bevuto',\n",
       " 'bene:',\n",
       " 'breve',\n",
       " 'buona',\n",
       " 'bruno;',\n",
       " 'beneplacito',\n",
       " 'bisogna',\n",
       " 'baleno',\n",
       " 'bianchi,',\n",
       " 'bacchetta',\n",
       " 'benchè',\n",
       " 'bianchi',\n",
       " 'biondi',\n",
       " 'bene',\n",
       " 'basso',\n",
       " 'brancolando',\n",
       " 'bocca',\n",
       " 'bere;',\n",
       " 'bevendo',\n",
       " 'bramoso',\n",
       " 'bisogni!',\n",
       " 'bocca',\n",
       " 'benedizione!»',\n",
       " 'benedizione!»',\n",
       " 'benedizione!»',\n",
       " 'benedetto',\n",
       " 'benedisse',\n",
       " 'bestemmiava',\n",
       " 'benedizione',\n",
       " 'bella',\n",
       " 'bada,',\n",
       " 'buono?',\n",
       " 'bella',\n",
       " 'bramato?',\n",
       " 'brancolava',\n",
       " 'balzò',\n",
       " 'bere.',\n",
       " 'bassamente',\n",
       " 'basta',\n",
       " 'bagnano',\n",
       " 'bello',\n",
       " 'braccia',\n",
       " 'bacio;--il',\n",
       " 'braccio',\n",
       " 'bocconi',\n",
       " 'bocca',\n",
       " 'benchè',\n",
       " 'braccia',\n",
       " 'baldanza,',\n",
       " 'bene,',\n",
       " 'ben',\n",
       " 'bene.--Voi,',\n",
       " 'braccia;',\n",
       " 'bisogno',\n",
       " 'braccio',\n",
       " 'bei',\n",
       " 'bel',\n",
       " 'benda',\n",
       " 'benda,',\n",
       " 'battente',\n",
       " 'brioso',\n",
       " 'bacio,',\n",
       " 'bagnato',\n",
       " 'battaglia.',\n",
       " 'buona',\n",
       " 'badare',\n",
       " 'balía',\n",
       " 'braccia,',\n",
       " 'buon',\n",
       " 'bel',\n",
       " 'bada',\n",
       " 'balzare',\n",
       " 'bruna',\n",
       " 'bella',\n",
       " 'bacio,--il',\n",
       " 'brivido',\n",
       " 'balenò',\n",
       " 'bocca',\n",
       " 'bocca',\n",
       " 'basso:--un',\n",
       " 'buia.',\n",
       " 'briglia',\n",
       " 'benchè',\n",
       " 'briglia',\n",
       " 'barlume',\n",
       " 'bene',\n",
       " 'buio,',\n",
       " 'bisogni,',\n",
       " 'benigni',\n",
       " 'barca',\n",
       " 'brillare',\n",
       " 'bel',\n",
       " 'bellezza,',\n",
       " 'beltà.',\n",
       " 'benedizioni',\n",
       " 'bontà.',\n",
       " 'bella',\n",
       " 'balía',\n",
       " 'buon',\n",
       " 'bestemmie,',\n",
       " 'breve',\n",
       " 'boscaglia,',\n",
       " 'bambino,--offerire',\n",
       " 'buona',\n",
       " 'bene,',\n",
       " 'bene',\n",
       " 'borsa',\n",
       " 'bene',\n",
       " 'bisogna',\n",
       " 'bel',\n",
       " 'bocca',\n",
       " 'bene',\n",
       " 'buona,',\n",
       " 'buona,',\n",
       " 'baccalari,',\n",
       " 'bene,',\n",
       " 'bene',\n",
       " 'bello',\n",
       " 'buon',\n",
       " 'bisogno',\n",
       " 'bella',\n",
       " 'balzo',\n",
       " 'buona',\n",
       " 'bene,',\n",
       " 'bene,',\n",
       " 'buco',\n",
       " 'buona',\n",
       " 'battesimo,',\n",
       " 'benedizione',\n",
       " 'banco',\n",
       " 'bello,',\n",
       " 'ben',\n",
       " 'badare',\n",
       " 'berretto.',\n",
       " 'bisogno,--al',\n",
       " 'bisogno',\n",
       " 'buone',\n",
       " 'bocca',\n",
       " 'baldanzoso',\n",
       " 'bosco',\n",
       " 'bestia',\n",
       " 'buoni',\n",
       " 'buon',\n",
       " 'bene;',\n",
       " 'borsa',\n",
       " 'buca',\n",
       " 'beneficato',\n",
       " 'ben',\n",
       " 'bicchiere',\n",
       " 'bene',\n",
       " 'bontà,',\n",
       " 'buoni,',\n",
       " 'bene;',\n",
       " 'bene',\n",
       " 'bisogno,',\n",
       " 'bere,',\n",
       " 'bosco,',\n",
       " 'barbaramente',\n",
       " 'biasimarmi?',\n",
       " 'basti,',\n",
       " 'bambino',\n",
       " 'bel',\n",
       " 'bel',\n",
       " 'berretto',\n",
       " 'baleno',\n",
       " 'beccaio,',\n",
       " 'breve.',\n",
       " 'bisogna',\n",
       " 'braccio',\n",
       " 'buon',\n",
       " 'bello',\n",
       " 'bocca',\n",
       " 'bel',\n",
       " 'bel',\n",
       " 'brevissimi',\n",
       " 'braccia,',\n",
       " 'brevissimo',\n",
       " 'bisogno',\n",
       " 'ben',\n",
       " 'ben',\n",
       " 'bevuto',\n",
       " 'bevuto',\n",
       " 'badargli,',\n",
       " 'bene!»',\n",
       " 'bicchiere',\n",
       " 'bosco,',\n",
       " 'bene',\n",
       " 'battevano',\n",
       " 'bicchiere',\n",
       " 'bocca',\n",
       " 'bella',\n",
       " 'ben',\n",
       " 'biece',\n",
       " 'buon',\n",
       " 'buon',\n",
       " 'bel',\n",
       " 'ben',\n",
       " 'buon',\n",
       " 'bisogno,',\n",
       " 'benedizioni',\n",
       " 'benigne',\n",
       " 'bel',\n",
       " 'buon',\n",
       " 'benigna',\n",
       " 'bevanda,',\n",
       " \"buon'ora,\",\n",
       " 'breve',\n",
       " 'bandiere',\n",
       " 'bastava',\n",
       " 'buon',\n",
       " 'bene',\n",
       " 'bisogna',\n",
       " 'bordone,',\n",
       " 'bel',\n",
       " 'baciò',\n",
       " 'bocca,',\n",
       " 'benedisse,',\n",
       " 'benedizione',\n",
       " 'bel',\n",
       " 'basso,',\n",
       " 'biasimo',\n",
       " 'balestrieri,',\n",
       " 'ben',\n",
       " 'ben',\n",
       " 'balza',\n",
       " 'ben',\n",
       " 'ben',\n",
       " 'barbaro',\n",
       " 'bene,',\n",
       " 'belletto',\n",
       " 'buono:',\n",
       " 'buona',\n",
       " 'ben',\n",
       " 'balzavano',\n",
       " 'bocche',\n",
       " 'bestemmia',\n",
       " 'beveva',\n",
       " 'bussola',\n",
       " 'badargli',\n",
       " 'braccia',\n",
       " 'battere',\n",
       " 'berretto,',\n",
       " 'berretto',\n",
       " 'battere',\n",
       " 'bel',\n",
       " 'bisogne,',\n",
       " 'braccia',\n",
       " 'bene',\n",
       " 'bel',\n",
       " 'bel',\n",
       " 'buono,',\n",
       " 'buono',\n",
       " 'battesimo',\n",
       " 'bouillonne.....»_',\n",
       " 'bene',\n",
       " 'brindisi:',\n",
       " 'bevvi',\n",
       " 'bevve',\n",
       " 'bevesse',\n",
       " 'ben',\n",
       " 'bel',\n",
       " 'bene.--E',\n",
       " 'bel',\n",
       " 'bene,',\n",
       " 'buon',\n",
       " 'bella',\n",
       " 'berremo',\n",
       " 'bella',\n",
       " 'barca',\n",
       " 'bestie,--perchè',\n",
       " 'bene;',\n",
       " 'bel',\n",
       " 'bocca,',\n",
       " 'bel',\n",
       " 'braccia.--È',\n",
       " 'buon',\n",
       " 'burlato,',\n",
       " 'brontolando:',\n",
       " 'bizzarro',\n",
       " 'bicchiere',\n",
       " 'bevve,',\n",
       " 'ben',\n",
       " 'bussola',\n",
       " 'bel',\n",
       " 'buono,',\n",
       " 'buono,',\n",
       " 'bocca',\n",
       " 'bramata;',\n",
       " 'bella',\n",
       " 'bagliore,',\n",
       " 'braccia',\n",
       " 'biasimo',\n",
       " 'balza',\n",
       " 'basta.»',\n",
       " 'beltà',\n",
       " 'breve',\n",
       " 'buone',\n",
       " 'benedice',\n",
       " 'bassezza',\n",
       " 'benedetti',\n",
       " 'bevanda.--Tu',\n",
       " 'ben',\n",
       " 'bei',\n",
       " 'bella',\n",
       " 'bassi,',\n",
       " 'ben',\n",
       " 'braccia',\n",
       " 'badarci:',\n",
       " 'braccia,',\n",
       " 'bel',\n",
       " 'bella',\n",
       " 'bel',\n",
       " 'baciai',\n",
       " 'balzo',\n",
       " 'braccio,',\n",
       " 'buon',\n",
       " 'balzo',\n",
       " 'buio,',\n",
       " 'brancolando',\n",
       " 'braccio',\n",
       " 'braccio,',\n",
       " 'benda',\n",
       " 'bene',\n",
       " 'basti',\n",
       " 'balestriere',\n",
       " 'braccia',\n",
       " 'braccia:',\n",
       " 'bene',\n",
       " 'basso,',\n",
       " 'bufera,',\n",
       " 'benedicendomi',\n",
       " 'bene',\n",
       " 'buon',\n",
       " 'bacio',\n",
       " 'bocca,',\n",
       " 'buona',\n",
       " 'benedetto,',\n",
       " 'buon',\n",
       " 'bellissimi',\n",
       " 'bevanda:--era',\n",
       " 'bruno,',\n",
       " 'battesimo',\n",
       " 'ben',\n",
       " 'boschi,',\n",
       " 'bosco,',\n",
       " 'bene,',\n",
       " 'bisogno',\n",
       " 'brutale',\n",
       " 'biasimo',\n",
       " 'buon',\n",
       " 'balzo',\n",
       " 'buona',\n",
       " 'bene',\n",
       " 'bassezza',\n",
       " 'brando,',\n",
       " 'bestemmiava;',\n",
       " 'buoni',\n",
       " 'ben',\n",
       " 'bere',\n",
       " 'buoni',\n",
       " 'buon',\n",
       " 'bevermelo....',\n",
       " 'brontolando:',\n",
       " 'balza',\n",
       " 'braccio',\n",
       " 'burla:--e',\n",
       " 'bere,',\n",
       " 'biscotto',\n",
       " 'banchi',\n",
       " 'ben',\n",
       " 'balía',\n",
       " 'bestie',\n",
       " 'basso.--_Libertà!_',\n",
       " 'botanica;',\n",
       " 'buona',\n",
       " 'bei',\n",
       " 'bisogna',\n",
       " 'bella',\n",
       " 'braccia',\n",
       " 'bufera,',\n",
       " 'balenare,',\n",
       " 'battuta',\n",
       " 'battaglia,',\n",
       " 'buon',\n",
       " 'battaglia;',\n",
       " 'bene',\n",
       " 'battaglia',\n",
       " 'bastarono',\n",
       " 'bisogno,',\n",
       " 'breve',\n",
       " 'battaglia',\n",
       " 'bocconi',\n",
       " 'brulichio',\n",
       " 'battaglia',\n",
       " 'buon',\n",
       " 'bella',\n",
       " 'battaglia',\n",
       " 'bisogna',\n",
       " 'bicchiere',\n",
       " 'balenare',\n",
       " 'burla',\n",
       " 'buon',\n",
       " 'balle',\n",
       " 'balle,',\n",
       " 'burlevoli,',\n",
       " 'bagliore',\n",
       " 'buono',\n",
       " 'brani,',\n",
       " 'braccio',\n",
       " 'bestie',\n",
       " 'benchè',\n",
       " 'bellissima',\n",
       " 'braccio',\n",
       " 'bracciali,',\n",
       " 'brevemente',\n",
       " 'bella',\n",
       " 'breve',\n",
       " 'balzata',\n",
       " 'battaglia.',\n",
       " 'battaglia,',\n",
       " 'breve',\n",
       " 'buio',\n",
       " 'baleno',\n",
       " 'buio',\n",
       " 'bagliore:',\n",
       " 'baciarlo,',\n",
       " 'bastevole',\n",
       " 'basso',\n",
       " 'braccia',\n",
       " 'barcollò',\n",
       " 'buono',\n",
       " 'bella',\n",
       " 'badate',\n",
       " 'bufera',\n",
       " 'beate',\n",
       " 'benedetta!',\n",
       " 'braccia',\n",
       " 'branca',\n",
       " 'bagnato',\n",
       " 'bellissima',\n",
       " 'benedire',\n",
       " 'benigno:--quantunque',\n",
       " 'baciò',\n",
       " 'braccia',\n",
       " 'bianco',\n",
       " 'braccia,',\n",
       " 'bramito',\n",
       " 'braccia.',\n",
       " 'bene',\n",
       " 'buoni',\n",
       " 'battaglia.',\n",
       " 'bianco',\n",
       " 'benchè',\n",
       " 'bel',\n",
       " 'bastò',\n",
       " 'biasimo,',\n",
       " 'bene',\n",
       " 'bisogna',\n",
       " 'bel',\n",
       " 'buono',\n",
       " 'borgo,',\n",
       " 'bocca',\n",
       " 'bocca!',\n",
       " 'botteghe',\n",
       " 'baciargli',\n",
       " 'batteva',\n",
       " 'branca',\n",
       " 'bene?--Talora',\n",
       " 'bandire',\n",
       " 'bel',\n",
       " 'bellezza',\n",
       " 'benefizio',\n",
       " 'bel',\n",
       " 'bastivi',\n",
       " 'battaglia',\n",
       " 'bocca',\n",
       " 'bene',\n",
       " 'braccia,',\n",
       " 'bella',\n",
       " 'bastone',\n",
       " 'bella',\n",
       " 'bacchetta',\n",
       " 'bosco,',\n",
       " 'breve',\n",
       " 'baciava;',\n",
       " 'banchetto,',\n",
       " 'bandiere',\n",
       " 'battendo',\n",
       " 'baciò',\n",
       " 'bene,--mia',\n",
       " 'bandito',\n",
       " 'buon',\n",
       " 'bassa',\n",
       " 'banco',\n",
       " 'banco,--la',\n",
       " 'badava,',\n",
       " 'balbuzienti',\n",
       " 'braccio',\n",
       " 'balaustri,',\n",
       " 'braccio',\n",
       " 'bianca;',\n",
       " 'balaustro,',\n",
       " 'braccia.--Da',\n",
       " 'bene',\n",
       " 'basti.»',\n",
       " 'ben',\n",
       " 'ben',\n",
       " 'batter',\n",
       " 'buono',\n",
       " 'ben',\n",
       " 'bevve',\n",
       " 'bufera',\n",
       " 'bagna',\n",
       " 'bevvero',\n",
       " 'beffa,',\n",
       " 'bibunt.',\n",
       " 'branco',\n",
       " 'bruna',\n",
       " 'balzare',\n",
       " 'braccio;',\n",
       " 'buono',\n",
       " 'bufera',\n",
       " 'braccia',\n",
       " 'bene',\n",
       " 'battiture',\n",
       " 'bene,',\n",
       " 'balze;',\n",
       " 'brulichío',\n",
       " 'bello',\n",
       " 'braccia',\n",
       " 'benedetti',\n",
       " 'bisogno',\n",
       " 'buone',\n",
       " 'bene',\n",
       " 'bisogno,',\n",
       " 'buoni',\n",
       " 'balzando',\n",
       " 'bene',\n",
       " 'buon',\n",
       " 'bianchi',\n",
       " 'bel',\n",
       " 'barca',\n",
       " 'barlume',\n",
       " 'bestemmiava;',\n",
       " 'borghi',\n",
       " 'belle',\n",
       " 'bene',\n",
       " 'buon',\n",
       " 'bisognava',\n",
       " \"bell'agio\",\n",
       " 'buio,',\n",
       " 'beversi',\n",
       " 'bicchieri',\n",
       " 'braccia',\n",
       " 'ben',\n",
       " 'bevi',\n",
       " 'bicchiere',\n",
       " 'ben',\n",
       " 'bisogno.»',\n",
       " 'bene',\n",
       " 'buchi',\n",
       " 'battervi',\n",
       " 'bella',\n",
       " 'bizzarro.¹',\n",
       " 'buona,',\n",
       " 'barbiere',\n",
       " 'bastanti',\n",
       " 'bene',\n",
       " 'brancolando,',\n",
       " 'belle',\n",
       " 'barba',\n",
       " 'ben',\n",
       " 'bere',\n",
       " 'bisogna',\n",
       " 'bisogna',\n",
       " 'buona',\n",
       " 'ben',\n",
       " 'ben',\n",
       " 'buon',\n",
       " 'bevendoci',\n",
       " 'bene',\n",
       " 'biasimare',\n",
       " 'bene',\n",
       " 'borsa',\n",
       " 'bella',\n",
       " ...]"
      ]
     },
     "execution_count": 57,
     "metadata": {},
     "output_type": "execute_result"
    }
   ],
   "source": [
    "b_words('data/italian.txt')"
   ]
  },
  {
   "cell_type": "markdown",
   "metadata": {},
   "source": [
    "- What type does your function take as input and what type does it return?"
   ]
  },
  {
   "cell_type": "markdown",
   "metadata": {},
   "source": [
    "#### Challenge 5\n",
    "\n",
    "Write and test a function that takes in a file path and returns the average number of characters per word in that file."
   ]
  },
  {
   "cell_type": "code",
   "execution_count": 62,
   "metadata": {
    "collapsed": true
   },
   "outputs": [],
   "source": [
    "def average_chars(path):\n",
    "    with open(path) as f:\n",
    "        contents = f.read()\n",
    "    text = contents.split()\n",
    "    lengths = [len(w) for w in text]\n",
    "    avg = sum(lengths) / len(lengths)\n",
    "    return avg"
   ]
  },
  {
   "cell_type": "code",
   "execution_count": 61,
   "metadata": {},
   "outputs": [
    {
     "data": {
      "text/plain": [
       "5.240613824447857"
      ]
     },
     "execution_count": 61,
     "metadata": {},
     "output_type": "execute_result"
    }
   ],
   "source": [
    "average_chars('data/italian.txt')"
   ]
  },
  {
   "cell_type": "markdown",
   "metadata": {},
   "source": [
    "#### Challenge 6\n",
    "\n",
    "One of the reasons we define functions is so that we don't have to copy-paste our code. For example, imagine you want to know the proportion of words in a file that have the letter 'b' in them. In fact, you want to know this proportion for each of the three files 'data/italian.txt', 'data/moredata.txt' and 'data/subfolder/big.txt'. Without a function, we might do something like this:"
   ]
  },
  {
   "cell_type": "code",
   "execution_count": 65,
   "metadata": {},
   "outputs": [
    {
     "name": "stdout",
     "output_type": "stream",
     "text": [
      "0.03411280930836537\n",
      "0.023210141046241743\n",
      "0.06039454410214521\n"
     ]
    }
   ],
   "source": [
    "with open('data/italian.txt') as f:\n",
    "    contents = f.read()\n",
    "text = contents.split()\n",
    "words_with_b = [word for word in text if word.count('b') > 0]\n",
    "proportion = len(words_with_b) / len(text)\n",
    "print(proportion)\n",
    "\n",
    "with open('data/moredata.txt') as f:\n",
    "    contents = f.read()\n",
    "text = contents.split()\n",
    "words_with_b = [word for word in text if word.count('b') > 0]\n",
    "proportion = len(words_with_b) / len(text)\n",
    "print(proportion)\n",
    "\n",
    "with open('data/subfolder/big.txt') as f:\n",
    "    contents = f.read()\n",
    "text = contents.split()\n",
    "words_with_b = [word for word in text if word.count('b') > 0]\n",
    "proportion = len(words_with_b) / len(text)\n",
    "print(proportion)"
   ]
  },
  {
   "cell_type": "markdown",
   "metadata": {},
   "source": [
    "Rewrite this by first defining a function (with a sensible name) and then calling it on three different arguments. Make sure your function `return`s something, rather than just `print`ing it."
   ]
  },
  {
   "cell_type": "code",
   "execution_count": 68,
   "metadata": {},
   "outputs": [
    {
     "name": "stdout",
     "output_type": "stream",
     "text": [
      "0.03411280930836537\n",
      "0.023210141046241743\n",
      "0.06039454410214521\n"
     ]
    }
   ],
   "source": [
    "def proportion_of_b_words(path):\n",
    "    with open(path) as f:\n",
    "        contents = f.read()\n",
    "    text = contents.split()\n",
    "    words_with_b = [word for word in text if word.count('b') > 0]\n",
    "    proportion = len(words_with_b) / len(text)\n",
    "    return proportion\n",
    "\n",
    "print(proportion_of_b_words('data/italian.txt'))\n",
    "print(proportion_of_b_words('data/moredata.txt'))\n",
    "print(proportion_of_b_words('data/subfolder/big.txt'))"
   ]
  },
  {
   "cell_type": "markdown",
   "metadata": {},
   "source": [
    "- Rewrite your function calls as a `for` loop.\n",
    "- Imagine you've decided that you're interested in words that have a 'z' in them. Change the copy-paste version, change the function definition version, and explain why defining functions are better than copy-pasting."
   ]
  },
  {
   "cell_type": "markdown",
   "metadata": {},
   "source": [
    "#### Challenge 7\n",
    "\n",
    "We should always give functions meaningful names, just like we give other variables meaningful names. This makes your code more readable, for others but also for your future self. Imagine you wrote the following code six months ago. Try to figure out what it does."
   ]
  },
  {
   "cell_type": "code",
   "execution_count": 71,
   "metadata": {},
   "outputs": [
    {
     "name": "stdout",
     "output_type": "stream",
     "text": [
      "134.18343780930385\n"
     ]
    }
   ],
   "source": [
    "with open('data/italian.txt') as f:\n",
    "    contents = f.read()\n",
    "n = len([ch for ch in contents if ch == '.'])\n",
    "a = len(contents) / n\n",
    "print(a)"
   ]
  },
  {
   "cell_type": "markdown",
   "metadata": {},
   "source": [
    "Now, rewrite this as a function and give it a name that describes what it returns. If your functions have descriptive names, then your future self can understand your code just by looking at the function **call**, not the function **definition**."
   ]
  },
  {
   "cell_type": "code",
   "execution_count": 72,
   "metadata": {},
   "outputs": [
    {
     "data": {
      "text/plain": [
       "134.18343780930385"
      ]
     },
     "execution_count": 72,
     "metadata": {},
     "output_type": "execute_result"
    }
   ],
   "source": [
    "def avg_chars_per_sentence(path):\n",
    "    with open(path) as f:\n",
    "        contents = f.read()\n",
    "    num_sents = len([ch for ch in contents if ch == '.'])\n",
    "    avg = len(contents) / n\n",
    "    return avg\n",
    "\n",
    "avg_chars_per_sentence('data/italian.txt')"
   ]
  },
  {
   "cell_type": "markdown",
   "metadata": {},
   "source": [
    "What do you think the following code does, without knowing what happens at the function definitions?"
   ]
  },
  {
   "cell_type": "code",
   "execution_count": null,
   "metadata": {
    "collapsed": true
   },
   "outputs": [],
   "source": []
  },
  {
   "cell_type": "markdown",
   "metadata": {},
   "source": [
    "#### Challenge 8\n",
    "\n",
    "A key idea in programming is writing modular code. For the time being, this means that each function we define should do a single thing, not many things. Some of the functions we've written so far do more than one thing. For example, the function from challenge 7 reads in a file, calculates the number of sentences, and returns the average number of characters per sentence."
   ]
  },
  {
   "cell_type": "code",
   "execution_count": null,
   "metadata": {
    "collapsed": true
   },
   "outputs": [],
   "source": []
  },
  {
   "cell_type": "code",
   "execution_count": null,
   "metadata": {
    "collapsed": true
   },
   "outputs": [],
   "source": []
  },
  {
   "cell_type": "code",
   "execution_count": null,
   "metadata": {
    "collapsed": true
   },
   "outputs": [],
   "source": []
  },
  {
   "cell_type": "markdown",
   "metadata": {},
   "source": [
    "- Lambda functions\n",
    "- Higher-order functions like sorted, max, min\n",
    "- Default arguments\n",
    "- Function documentation"
   ]
  },
  {
   "cell_type": "markdown",
   "metadata": {},
   "source": [
    "## Importing modules"
   ]
  },
  {
   "cell_type": "markdown",
   "metadata": {},
   "source": [
    "## Control"
   ]
  },
  {
   "cell_type": "markdown",
   "metadata": {},
   "source": [
    "## Errors"
   ]
  },
  {
   "cell_type": "markdown",
   "metadata": {},
   "source": [
    "## Dictionaries"
   ]
  }
 ],
 "metadata": {
  "kernelspec": {
   "display_name": "Python 3",
   "language": "python",
   "name": "python3"
  },
  "language_info": {
   "codemirror_mode": {
    "name": "ipython",
    "version": 3
   },
   "file_extension": ".py",
   "mimetype": "text/x-python",
   "name": "python",
   "nbconvert_exporter": "python",
   "pygments_lexer": "ipython3",
   "version": "3.6.1"
  }
 },
 "nbformat": 4,
 "nbformat_minor": 2
}
