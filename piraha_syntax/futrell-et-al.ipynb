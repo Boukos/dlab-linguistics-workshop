{
 "cells": [
  {
   "cell_type": "markdown",
   "metadata": {},
   "source": [
    "## Replicating Futrell et al. (2016) _A Corpus Investigation of Syntactic Embedding in Pirahã_."
   ]
  },
  {
   "cell_type": "markdown",
   "metadata": {
    "collapsed": true
   },
   "source": [
    "### Downloading the data\n",
    "\n",
    "The data is available at [this github repo](https://github.com/languageMIT/piraha). We could "
   ]
  },
  {
   "cell_type": "code",
   "execution_count": 18,
   "metadata": {
    "collapsed": true
   },
   "outputs": [],
   "source": [
    "!mkdir data"
   ]
  },
  {
   "cell_type": "code",
   "execution_count": 19,
   "metadata": {},
   "outputs": [],
   "source": [
    "!wget -q -O data/piraha.txt https://raw.githubusercontent.com/languageMIT/piraha/master/corpus.txt"
   ]
  },
  {
   "cell_type": "markdown",
   "metadata": {},
   "source": [
    "### Reading in the data"
   ]
  },
  {
   "cell_type": "code",
   "execution_count": 26,
   "metadata": {
    "collapsed": true
   },
   "outputs": [],
   "source": [
    "file_name = 'data/piraha.txt'\n",
    "with open(file_name, 'r') as f:\n",
    "    raw_text = f.read()"
   ]
  },
  {
   "cell_type": "code",
   "execution_count": 28,
   "metadata": {},
   "outputs": [],
   "source": [
    "text_boundary = \"\"\"############################################################################################################################################ \n",
    "############################################################################################################################################ \n",
    "############################################################################################################################################\"\"\""
   ]
  },
  {
   "cell_type": "code",
   "execution_count": 43,
   "metadata": {},
   "outputs": [
    {
     "data": {
      "text/plain": [
       "''"
      ]
     },
     "execution_count": 43,
     "metadata": {},
     "output_type": "execute_result"
    }
   ],
   "source": [
    "texts = raw_text.split(text_boundary)\n",
    "texts[0]"
   ]
  },
  {
   "cell_type": "code",
   "execution_count": 45,
   "metadata": {},
   "outputs": [
    {
     "data": {
      "text/plain": [
       "\"############################################################################################################################################ \\n############################################################################################################################################ \\n############################################################################################################################################ \\n\\n\\n# SOURCE: 01_Katosbabyandthefire.pa, 01_KATO'S BABY FALLS NEAR THE FIRE.pdf\\n# INFORMANT: Aogioso\\n# COMMENT: Steve Sheldon early 1970s; Translations and glosses completed by Dan Everett 2009. This is a story about a small baby (Tixohóí) who during the night falls off the bed and near the fire. His mother (Kato) and father (Hoagaixoóxai) are sound sleepers and do not waken to his crying. The grandmother (Xaogoíso) who is telling the story is very angry as is her sister (Xigaoxixaihoái) and husband (Xopísi). The father’s brother (Xoii) is also angry at their sleepiness\""
      ]
     },
     "execution_count": 45,
     "metadata": {},
     "output_type": "execute_result"
    }
   ],
   "source": [
    "raw_text[:1000]"
   ]
  },
  {
   "cell_type": "code",
   "execution_count": null,
   "metadata": {
    "collapsed": true
   },
   "outputs": [],
   "source": []
  }
 ],
 "metadata": {
  "kernelspec": {
   "display_name": "Python 3",
   "language": "python",
   "name": "python3"
  },
  "language_info": {
   "codemirror_mode": {
    "name": "ipython",
    "version": 3
   },
   "file_extension": ".py",
   "mimetype": "text/x-python",
   "name": "python",
   "nbconvert_exporter": "python",
   "pygments_lexer": "ipython3",
   "version": "3.6.1"
  }
 },
 "nbformat": 4,
 "nbformat_minor": 2
}
