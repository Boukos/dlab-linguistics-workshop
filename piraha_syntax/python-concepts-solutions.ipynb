{
 "cells": [
  {
   "cell_type": "markdown",
   "metadata": {},
   "source": [
    "# Python concepts\n",
    "\n",
    "In this notebook, we are going to cover all the Python concepts that you will need to complete the Futrell et al. replication."
   ]
  },
  {
   "cell_type": "markdown",
   "metadata": {},
   "source": [
    "## Reading in data\n",
    "\n",
    "The main way to read in data in Python is to use the `open` function. The `open` function is always available as soon as you start Python. It has one required argument, which is a string describing the path to the file you want to open. Like all functions in Python, the `open` function **returns** something. In particular, the `open` function returns a file object. You can think of a file object as Python's representation of a file. We can store that thing in a variable just like we store numbers in variables with `x = 10`.\n",
    "\n",
    "I have a small text file in the 'data' folder called 'myfile.txt'. Check <a href=\"data/myfile.txt\">it</a> out."
   ]
  },
  {
   "cell_type": "code",
   "execution_count": 11,
   "metadata": {},
   "outputs": [
    {
     "data": {
      "text/plain": [
       "<_io.TextIOWrapper name='data/myfile.txt' mode='r' encoding='UTF-8'>"
      ]
     },
     "execution_count": 11,
     "metadata": {},
     "output_type": "execute_result"
    }
   ],
   "source": [
    "open('data/myfile.txt')"
   ]
  },
  {
   "cell_type": "code",
   "execution_count": 12,
   "metadata": {
    "collapsed": true
   },
   "outputs": [],
   "source": [
    "f = open('data/myfile.txt')"
   ]
  },
  {
   "cell_type": "code",
   "execution_count": 13,
   "metadata": {},
   "outputs": [
    {
     "data": {
      "text/plain": [
       "<_io.TextIOWrapper name='data/myfile.txt' mode='r' encoding='UTF-8'>"
      ]
     },
     "execution_count": 13,
     "metadata": {},
     "output_type": "execute_result"
    }
   ],
   "source": [
    "f"
   ]
  },
  {
   "cell_type": "code",
   "execution_count": 14,
   "metadata": {},
   "outputs": [
    {
     "data": {
      "text/plain": [
       "_io.TextIOWrapper"
      ]
     },
     "execution_count": 14,
     "metadata": {},
     "output_type": "execute_result"
    }
   ],
   "source": [
    "type(f)"
   ]
  },
  {
   "cell_type": "markdown",
   "metadata": {},
   "source": [
    "It has a cryptic name, but it's a file object. Normally when we use the `type` function in Python, we will get a more readable answer (e.g. try calling `type` on the number `10`). Notice the difference between `f` and the string I passed in to the `open` function. One is a string, one is a file object, whatever that is.\n",
    "\n",
    "If we look at the right part of the Python [docs](https://docs.python.org/3/glossary.html#term-file-object), it tells us a \"file object\" is something you can read and write. To read everything in our file, we use the `read` method of the file object `f`. \n",
    "\n",
    "A method is just a function that can only be used on a particular type of object. Strings have their own method (e.g. you can capitalize a string, but not a list), lists have their own methods (e.g. you can sort a list, but not a string), and files have their own methods (e.g. you can read a file, but not a string). Because a method is a function that is restricted to a particular type, we use it after the object. Because it is still a function, we still need the parentheses. In this case, the method needs no more arguments, but later on we'll see methods that do take extra arguments inbetween the parentheses."
   ]
  },
  {
   "cell_type": "code",
   "execution_count": 15,
   "metadata": {
    "collapsed": true
   },
   "outputs": [],
   "source": [
    "contents = f.read()"
   ]
  },
  {
   "cell_type": "code",
   "execution_count": 5,
   "metadata": {},
   "outputs": [
    {
     "ename": "AttributeError",
     "evalue": "'str' object has no attribute 'read'",
     "output_type": "error",
     "traceback": [
      "\u001b[0;31m---------------------------------------------------------------------------\u001b[0m",
      "\u001b[0;31mAttributeError\u001b[0m                            Traceback (most recent call last)",
      "\u001b[0;32m<ipython-input-5-431b45574946>\u001b[0m in \u001b[0;36m<module>\u001b[0;34m()\u001b[0m\n\u001b[1;32m      1\u001b[0m \u001b[0;31m# This will not work, because a string is not something you can read in Python.\u001b[0m\u001b[0;34m\u001b[0m\u001b[0;34m\u001b[0m\u001b[0m\n\u001b[0;32m----> 2\u001b[0;31m \u001b[0mnot_going_to_work\u001b[0m \u001b[0;34m=\u001b[0m \u001b[0;34m'data/myfile.txt'\u001b[0m\u001b[0;34m.\u001b[0m\u001b[0mread\u001b[0m\u001b[0;34m(\u001b[0m\u001b[0;34m)\u001b[0m\u001b[0;34m\u001b[0m\u001b[0m\n\u001b[0m",
      "\u001b[0;31mAttributeError\u001b[0m: 'str' object has no attribute 'read'"
     ]
    }
   ],
   "source": [
    "# This will not work, because a string is not something you can read in Python.\n",
    "not_going_to_work = 'data/myfile.txt'.read()"
   ]
  },
  {
   "cell_type": "markdown",
   "metadata": {},
   "source": [
    "After we have successfully read in the contents of a file, we need to close the file in Python. Closing is something you can do to files but not strings or lists, so it's a method."
   ]
  },
  {
   "cell_type": "code",
   "execution_count": 16,
   "metadata": {
    "collapsed": true
   },
   "outputs": [],
   "source": [
    "f.close()"
   ]
  },
  {
   "cell_type": "markdown",
   "metadata": {},
   "source": [
    "The entire process of opening, reading and closing a file in Python looks like this. You open the file, you read in its contents, then you close the file."
   ]
  },
  {
   "cell_type": "code",
   "execution_count": 19,
   "metadata": {},
   "outputs": [],
   "source": [
    "f = open('data/myfile.txt')\n",
    "contents = f.read()\n",
    "f.close()"
   ]
  },
  {
   "cell_type": "markdown",
   "metadata": {},
   "source": [
    "Closing a file is really important in Python but programmers are often forgetful. Python has a paraphrase of this process that automatically closes the file for us. It is functionally equivalent."
   ]
  },
  {
   "cell_type": "code",
   "execution_count": 21,
   "metadata": {
    "collapsed": true
   },
   "outputs": [],
   "source": [
    "with open('data/myfile.txt') as f:\n",
    "    contents = f.read()"
   ]
  },
  {
   "cell_type": "markdown",
   "metadata": {},
   "source": [
    "#### Challenge 1\n",
    "\n",
    "There's another txt file in the 'data' folder called 'moredata.txt'. Read in the file and store the text in a variable called `data`."
   ]
  },
  {
   "cell_type": "code",
   "execution_count": 25,
   "metadata": {},
   "outputs": [],
   "source": [
    "with open('data/moredata.txt', 'r') as f:\n",
    "    data = f.read()"
   ]
  },
  {
   "cell_type": "markdown",
   "metadata": {},
   "source": [
    "- What type is `data`? \n",
    "- How long in `data`?\n",
    "- Redo the exercise without using a `with` statement.\n",
    "- Read Python docs for [open](https://docs.python.org/3/library/functions.html#open). Reading documentation is a crucial skill for modern programming. 90% of the time you only need 10% of the information in the documentation, but finding that 10% is a real skill.\n",
    "- BTW, the data comes from the [Santa Barbara Spoken Corpus](http://www.linguistics.ucsb.edu/research/santa-barbara-corpus)"
   ]
  },
  {
   "cell_type": "markdown",
   "metadata": {},
   "source": [
    "#### Challenge 2\n",
    "\n",
    "When you use the `read` method of a file object in Python, you get the entire contents of that file as a string. Files also have a `readlines` method. This is the same as `read`, but instead of one big long string, you get a list of strings. Each element of the list is a single line of the file. This is handy when each line of your file is a single data point, as in the previous challenge.\n",
    "\n",
    "Read in the contents of the 'moredata.txt' file into a list of strings, and call that list of strings `data`."
   ]
  },
  {
   "cell_type": "code",
   "execution_count": 26,
   "metadata": {
    "collapsed": true
   },
   "outputs": [],
   "source": [
    "with open('data/moredata.txt', 'r') as f:\n",
    "    data = f.readlines()"
   ]
  },
  {
   "cell_type": "markdown",
   "metadata": {},
   "source": [
    "- What type is `data`? \n",
    "- How long in `data`?\n",
    "- Why isn't this the same as the previous challenge?\n",
    "- Redo the exercise without using a `with` statement.\n",
    "- StackOverflow is your friend. Have a look at the question and the top-rated answer of [this thread](https://stackoverflow.com/questions/3277503/how-do-i-read-a-file-line-by-line-into-a-list)."
   ]
  },
  {
   "cell_type": "markdown",
   "metadata": {},
   "source": [
    "#### Extra on reading files\n",
    "Read 7.2 and 7.2.1 from [here](https://docs.python.org/3/tutorial/inputoutput.html#reading-and-writing-files)."
   ]
  },
  {
   "cell_type": "markdown",
   "metadata": {},
   "source": [
    "## String methods\n",
    "\n",
    "Strings are an important data type in Python, especially for linguists. It is how Python represents text data. You can make a string by putting some text in between quotation marks, either single (') or double (\"). The only reason Python gives you two ways of making a string is because you may want to actually have a quotation mark in the middle of your string. If you do want one, then use the other quotation mark. For example, if you want the word _can't_ in your string, use \"can't\". Other than that, ' and \" are the same."
   ]
  },
  {
   "cell_type": "code",
   "execution_count": 34,
   "metadata": {},
   "outputs": [
    {
     "name": "stdout",
     "output_type": "stream",
     "text": [
      "this is a string\n",
      "this is also a string\n"
     ]
    }
   ],
   "source": [
    "x = 'this is a string'\n",
    "y = \"this is also a string\"\n",
    "print(x)\n",
    "print(y)"
   ]
  },
  {
   "cell_type": "code",
   "execution_count": 36,
   "metadata": {},
   "outputs": [
    {
     "ename": "SyntaxError",
     "evalue": "invalid syntax (<ipython-input-36-f07fda882c76>, line 1)",
     "output_type": "error",
     "traceback": [
      "\u001b[0;36m  File \u001b[0;32m\"<ipython-input-36-f07fda882c76>\"\u001b[0;36m, line \u001b[0;32m1\u001b[0m\n\u001b[0;31m    x = 'we can't do this'\u001b[0m\n\u001b[0m                ^\u001b[0m\n\u001b[0;31mSyntaxError\u001b[0m\u001b[0;31m:\u001b[0m invalid syntax\n"
     ]
    }
   ],
   "source": [
    "x = 'we can't do this'"
   ]
  },
  {
   "cell_type": "markdown",
   "metadata": {},
   "source": [
    "Strings are a data type in Python. There are something functions that you can do that are particular to strings. That means they're methods. **\"Method\" is just a fancy name for a function that is only available for certain data types.** For example, you can make a string all upper case, but you can't make a list all upper case, because that doesn't make sense. "
   ]
  },
  {
   "cell_type": "code",
   "execution_count": 37,
   "metadata": {},
   "outputs": [
    {
     "data": {
      "text/plain": [
       "'THIS IS A STRING'"
      ]
     },
     "execution_count": 37,
     "metadata": {},
     "output_type": "execute_result"
    }
   ],
   "source": [
    "'this is a string'.upper()"
   ]
  },
  {
   "cell_type": "code",
   "execution_count": 38,
   "metadata": {},
   "outputs": [
    {
     "ename": "AttributeError",
     "evalue": "'list' object has no attribute 'upper'",
     "output_type": "error",
     "traceback": [
      "\u001b[0;31m---------------------------------------------------------------------------\u001b[0m",
      "\u001b[0;31mAttributeError\u001b[0m                            Traceback (most recent call last)",
      "\u001b[0;32m<ipython-input-38-c4c9ac3323fe>\u001b[0m in \u001b[0;36m<module>\u001b[0;34m()\u001b[0m\n\u001b[0;32m----> 1\u001b[0;31m \u001b[0;34m[\u001b[0m\u001b[0;36m1\u001b[0m\u001b[0;34m,\u001b[0m \u001b[0;36m2\u001b[0m\u001b[0;34m,\u001b[0m \u001b[0;36m3\u001b[0m\u001b[0;34m,\u001b[0m \u001b[0;34m'hello'\u001b[0m\u001b[0;34m]\u001b[0m\u001b[0;34m.\u001b[0m\u001b[0mupper\u001b[0m\u001b[0;34m(\u001b[0m\u001b[0;34m)\u001b[0m\u001b[0;34m\u001b[0m\u001b[0m\n\u001b[0m",
      "\u001b[0;31mAttributeError\u001b[0m: 'list' object has no attribute 'upper'"
     ]
    }
   ],
   "source": [
    "[1, 2, 3, 'hello'].upper()"
   ]
  },
  {
   "cell_type": "markdown",
   "metadata": {},
   "source": [
    "Whenever you write `'this is a string'.upper()`, it's as if you're writing `upper('this is a string')`, where `upper` is a function that can only accept strings.\n",
    "\n",
    "#### Challenge 3\n",
    "Assign your favourite linguist's name to the variable `linguist`. Print it out in all caps and all lower case."
   ]
  },
  {
   "cell_type": "code",
   "execution_count": 39,
   "metadata": {},
   "outputs": [
    {
     "name": "stdout",
     "output_type": "stream",
     "text": [
      "NOAM CHOMSKY\n",
      "noam chomsky\n"
     ]
    }
   ],
   "source": [
    "linguist = 'Noam Chomsky'\n",
    "print(linguist.upper())\n",
    "print(linguist.lower())"
   ]
  },
  {
   "cell_type": "markdown",
   "metadata": {},
   "source": [
    "- What type is `linguist.upper()`?"
   ]
  },
  {
   "cell_type": "markdown",
   "metadata": {},
   "source": [
    "#### Challenge 4\n",
    "\n",
    "String methods, like all methods in Python, can also take additional arguments. The `count` method of a string takes as its only required argument a string, let's call it `sub`. The method will return how many times `sub` occurred in that string."
   ]
  },
  {
   "cell_type": "code",
   "execution_count": 40,
   "metadata": {},
   "outputs": [
    {
     "data": {
      "text/plain": [
       "1"
      ]
     },
     "execution_count": 40,
     "metadata": {},
     "output_type": "execute_result"
    }
   ],
   "source": [
    "linguist.count('a')"
   ]
  },
  {
   "cell_type": "markdown",
   "metadata": {},
   "source": [
    "Read in the contents of the 'big.txt', which is in a subfolder called 'subfolder' in the 'data' directory. How many times does 'a' appear? How many times does the string 'the' appear?"
   ]
  },
  {
   "cell_type": "code",
   "execution_count": 42,
   "metadata": {},
   "outputs": [
    {
     "data": {
      "text/plain": [
       "92805"
      ]
     },
     "execution_count": 42,
     "metadata": {},
     "output_type": "execute_result"
    }
   ],
   "source": [
    "with open('data/subfolder/big.txt') as g:\n",
    "    contents = g.read()\n",
    "contents.count('the')"
   ]
  },
  {
   "cell_type": "markdown",
   "metadata": {},
   "source": [
    "#### Challenge 5\n",
    "\n",
    "There's a string method called `endswith`, which tells us whether a string ends with a particular suffix. The method returns either `True` or `False`. Find out whether the contents of the \"big.txt\" file end with a 'y' and store that in a variable."
   ]
  },
  {
   "cell_type": "code",
   "execution_count": 49,
   "metadata": {},
   "outputs": [
    {
     "data": {
      "text/plain": [
       "False"
      ]
     },
     "execution_count": 49,
     "metadata": {},
     "output_type": "execute_result"
    }
   ],
   "source": [
    "x = contents.endswith('y')\n",
    "x"
   ]
  },
  {
   "cell_type": "markdown",
   "metadata": {},
   "source": [
    "One of the things we can do with strings is _split_ them. That means we turn one string into a list of smaller strings. If we don't give the `split` method an argument, it will assume we want to split the string by whitespace. Whitespace is just a term for spaces, tabs and newlines. Every time it finds a whitespace character (e.g. a space), it will chop up the string."
   ]
  },
  {
   "cell_type": "code",
   "execution_count": 50,
   "metadata": {},
   "outputs": [
    {
     "data": {
      "text/plain": [
       "['this', 'is', 'a', 'string']"
      ]
     },
     "execution_count": 50,
     "metadata": {},
     "output_type": "execute_result"
    }
   ],
   "source": [
    "x = 'this is a string'\n",
    "x.split()"
   ]
  },
  {
   "cell_type": "code",
   "execution_count": 52,
   "metadata": {},
   "outputs": [
    {
     "data": {
      "text/plain": [
       "['this is a stri', 'g']"
      ]
     },
     "execution_count": 52,
     "metadata": {},
     "output_type": "execute_result"
    }
   ],
   "source": [
    "x.split('n')"
   ]
  },
  {
   "cell_type": "code",
   "execution_count": 55,
   "metadata": {},
   "outputs": [
    {
     "data": {
      "text/plain": [
       "['th', 's ', 's a str', 'ng']"
      ]
     },
     "execution_count": 55,
     "metadata": {},
     "output_type": "execute_result"
    }
   ],
   "source": [
    "x.split('i')"
   ]
  },
  {
   "cell_type": "markdown",
   "metadata": {},
   "source": [
    "#### Challenge 6\n",
    "\n",
    "Read in the text file 'italian.txt' in the 'data' folder, split it by whitespace and store the result in a variable called `italian`."
   ]
  },
  {
   "cell_type": "code",
   "execution_count": 56,
   "metadata": {},
   "outputs": [
    {
     "data": {
      "text/plain": [
       "['\\ufeffThe',\n",
       " 'Project',\n",
       " 'Gutenberg',\n",
       " 'EBook',\n",
       " 'of',\n",
       " 'La',\n",
       " 'battaglia',\n",
       " 'di',\n",
       " 'Benevento,',\n",
       " 'by']"
      ]
     },
     "execution_count": 56,
     "metadata": {},
     "output_type": "execute_result"
    }
   ],
   "source": [
    "with open('data/italian.txt') as myfile:\n",
    "    italian = myfile.read()\n",
    "italian = italian.split()\n",
    "italian[:10]"
   ]
  },
  {
   "cell_type": "markdown",
   "metadata": {},
   "source": [
    "- What type is `italian`?\n",
    "- How long is `italian`?"
   ]
  },
  {
   "cell_type": "markdown",
   "metadata": {},
   "source": [
    "#### Extra on strings\n",
    "- [A full list of string methods in Python](https://docs.python.org/3/library/stdtypes.html#string-methods)\n",
    "- Read the Python docs for [splitting strings](https://docs.python.org/3.6/library/stdtypes.html?highlight=str#str.split)."
   ]
  },
  {
   "cell_type": "markdown",
   "metadata": {},
   "source": [
    "## `For` loops\n",
    "\n",
    "Computers are good at doing exactly the same thing many times. One way we can do that in Python is with `for` loops."
   ]
  },
  {
   "cell_type": "code",
   "execution_count": 60,
   "metadata": {},
   "outputs": [
    {
     "name": "stdout",
     "output_type": "stream",
     "text": [
      "1\n",
      "2\n",
      "3\n",
      "4\n",
      "5\n"
     ]
    }
   ],
   "source": [
    "for x in [1,2,3,4,5]:\n",
    "    print(x)"
   ]
  },
  {
   "cell_type": "code",
   "execution_count": 61,
   "metadata": {},
   "outputs": [
    {
     "name": "stdout",
     "output_type": "stream",
     "text": [
      "2\n",
      "3\n",
      "4\n",
      "5\n",
      "6\n"
     ]
    }
   ],
   "source": [
    "for y in [1,2,3,4,5]:\n",
    "    z = y + 1\n",
    "    print(z)"
   ]
  },
  {
   "cell_type": "markdown",
   "metadata": {},
   "source": [
    "A `for` loop is just shorthand for the following code:"
   ]
  },
  {
   "cell_type": "code",
   "execution_count": 62,
   "metadata": {},
   "outputs": [
    {
     "name": "stdout",
     "output_type": "stream",
     "text": [
      "2\n",
      "3\n",
      "4\n",
      "5\n",
      "6\n"
     ]
    }
   ],
   "source": [
    "mylist = [1,2,3,4,5]\n",
    "\n",
    "y = mylist[0]\n",
    "z = y + 1\n",
    "print(z)\n",
    "\n",
    "y = mylist[1]\n",
    "z = y + 1\n",
    "print(z)\n",
    "\n",
    "y = mylist[2]\n",
    "z = y + 1\n",
    "print(z)\n",
    "\n",
    "y = mylist[3]\n",
    "z = y + 1\n",
    "print(z)\n",
    "\n",
    "y = mylist[4]\n",
    "z = y + 1\n",
    "print(z)\n"
   ]
  },
  {
   "cell_type": "markdown",
   "metadata": {},
   "source": [
    "Writing the same code multiple times in the same program sucks. Imagine if we decided we actually wanted to add 2 to every element of the list. We'd have to change 5 different lines of code here. It'd be easy to forget one, and then your program has a bug. Often in linguistics, we'll be operating over thousands or millions of data points, not just 5.\n",
    "\n",
    "#### Challenge 7\n",
    "\n",
    "Write a `for` loop that prints the square of each of the first 10 digits. To square a number in Python, use `4**2` (=16). When you run your `for` loop, you should see:\n",
    "\n",
    "```\n",
    "1\n",
    "4\n",
    "9\n",
    "16\n",
    "25\n",
    "36\n",
    "49\n",
    "64\n",
    "81\n",
    "100\n",
    "```"
   ]
  },
  {
   "cell_type": "code",
   "execution_count": 64,
   "metadata": {},
   "outputs": [
    {
     "name": "stdout",
     "output_type": "stream",
     "text": [
      "1\n",
      "4\n",
      "9\n",
      "16\n",
      "25\n",
      "36\n",
      "49\n",
      "64\n",
      "81\n",
      "100\n"
     ]
    }
   ],
   "source": [
    "for i in range(1, 11):\n",
    "    print(i**2)"
   ]
  },
  {
   "cell_type": "markdown",
   "metadata": {},
   "source": [
    "#### Challenge 8\n",
    "\n",
    "Write a `for` loop that prints all the words in `italian` that end in 'b'."
   ]
  },
  {
   "cell_type": "code",
   "execution_count": 70,
   "metadata": {},
   "outputs": [
    {
     "name": "stdout",
     "output_type": "stream",
     "text": [
      "ab\n",
      "ab\n",
      "sub\n",
      "_sub\n",
      "_ab\n",
      "_ab\n",
      "«_Machatub\n",
      "web\n",
      "web\n",
      "web\n",
      "Web\n",
      "Web\n",
      "Web\n"
     ]
    }
   ],
   "source": [
    "for word in italian:\n",
    "    if word.endswith('b'):\n",
    "        print(word)"
   ]
  },
  {
   "cell_type": "markdown",
   "metadata": {},
   "source": [
    "#### Challenge 9\n",
    "\n",
    "`For` loops don't have to use lists in Python. They can iterate over any data type that is [iterable](https://docs.python.org/3/glossary.html#term-iterable). Strings are iterable.\n",
    "\n",
    "Write a `for` loop that iterates over every character in `linguist` and prints it if it is an 'm'."
   ]
  },
  {
   "cell_type": "code",
   "execution_count": 71,
   "metadata": {},
   "outputs": [
    {
     "name": "stdout",
     "output_type": "stream",
     "text": [
      "m\n",
      "m\n"
     ]
    }
   ],
   "source": [
    "linguist = 'Noam Chomsky'\n",
    "for char in linguist:\n",
    "    if char == 'm':\n",
    "        print(char)"
   ]
  },
  {
   "cell_type": "markdown",
   "metadata": {},
   "source": [
    "#### Challenge 10\n",
    "\n",
    "Use a `for` loop to store all the words in `italian` that `startswith` a 'z'. First, create an empty list called `result` by using `[]`. Then iterate over all the words in `italian`, and a word `startswith` 'z', then `append` that word to the list `result`. `append` is a list method, which takes an argument and puts it at the end of the list."
   ]
  },
  {
   "cell_type": "code",
   "execution_count": 79,
   "metadata": {},
   "outputs": [
    {
     "data": {
      "text/plain": [
       "48"
      ]
     },
     "execution_count": 79,
     "metadata": {},
     "output_type": "execute_result"
    }
   ],
   "source": [
    "result = []\n",
    "for word in italian:\n",
    "    if word.startswith('z'):\n",
    "        result.append(word)\n",
    "len(result)"
   ]
  },
  {
   "cell_type": "markdown",
   "metadata": {},
   "source": [
    "## List comprehensions\n",
    "\n",
    "List comprehensions are particular to Python. They are handy shorthands for `for` loops. This list comprehension is functionally equivalent to the `for` loop of challenge 10:"
   ]
  },
  {
   "cell_type": "code",
   "execution_count": 82,
   "metadata": {},
   "outputs": [
    {
     "data": {
      "text/plain": [
       "48"
      ]
     },
     "execution_count": 82,
     "metadata": {},
     "output_type": "execute_result"
    }
   ],
   "source": [
    "result = [word for word in italian if word.startswith('z')]\n",
    "len(result)"
   ]
  },
  {
   "cell_type": "markdown",
   "metadata": {},
   "source": [
    "The syntax is the following:\n",
    "\n",
    "`[variable for variable in iterable if condition]`\n",
    "\n",
    "The `condition` is optional, and we can do more complicated things that just copy the variable exactly."
   ]
  },
  {
   "cell_type": "code",
   "execution_count": 85,
   "metadata": {},
   "outputs": [
    {
     "data": {
      "text/plain": [
       "[2, 3, 4, 5, 6]"
      ]
     },
     "execution_count": 85,
     "metadata": {},
     "output_type": "execute_result"
    }
   ],
   "source": [
    "mylist = [1,2,3,4,5]\n",
    "[number + 1 for number in mylist]"
   ]
  },
  {
   "cell_type": "code",
   "execution_count": 92,
   "metadata": {},
   "outputs": [
    {
     "data": {
      "text/plain": [
       "['P', 'a', 'c', 'a', 'i', 'i', 'P', 'a', 'A', 'a']"
      ]
     },
     "execution_count": 92,
     "metadata": {},
     "output_type": "execute_result"
    }
   ],
   "source": [
    "# Get a list of the first letter of words in `italian` that end with 't'\n",
    "[word[0] for word in italian if word.endswith('t')][:10]"
   ]
  },
  {
   "cell_type": "markdown",
   "metadata": {},
   "source": [
    "#### Challenge 11\n",
    "\n",
    "Rewrite challenge 7 and 8 as list comprehensions."
   ]
  },
  {
   "cell_type": "code",
   "execution_count": 93,
   "metadata": {},
   "outputs": [
    {
     "data": {
      "text/plain": [
       "[1, 4, 9, 16, 25, 36, 49, 64, 81, 100]"
      ]
     },
     "execution_count": 93,
     "metadata": {},
     "output_type": "execute_result"
    }
   ],
   "source": [
    "[i**2 for i in range(1,11)]"
   ]
  },
  {
   "cell_type": "code",
   "execution_count": 94,
   "metadata": {},
   "outputs": [
    {
     "data": {
      "text/plain": [
       "['ab',\n",
       " 'ab',\n",
       " 'sub',\n",
       " '_sub',\n",
       " '_ab',\n",
       " '_ab',\n",
       " '«_Machatub',\n",
       " 'web',\n",
       " 'web',\n",
       " 'web',\n",
       " 'Web',\n",
       " 'Web',\n",
       " 'Web']"
      ]
     },
     "execution_count": 94,
     "metadata": {},
     "output_type": "execute_result"
    }
   ],
   "source": [
    "[word for word in italian if word.endswith('b')]"
   ]
  },
  {
   "cell_type": "markdown",
   "metadata": {},
   "source": [
    "#### Challenge 12\n",
    "\n",
    "Use a list comprehension to make every word in `italian` all caps if it is at least three characters long."
   ]
  },
  {
   "cell_type": "code",
   "execution_count": 97,
   "metadata": {
    "collapsed": true
   },
   "outputs": [],
   "source": [
    "result = [word.upper() for word in italian if len(word) >= 3]"
   ]
  },
  {
   "cell_type": "markdown",
   "metadata": {},
   "source": [
    "- How long is the reuslting list?\n",
    "- How long is each word in the resulting list? (Use a list comprehension to find out)"
   ]
  },
  {
   "cell_type": "markdown",
   "metadata": {},
   "source": [
    "#### Challenge 13\n",
    "\n",
    "Use a list comprehension to get the **last** letter of every word in 'data/subfolder/big.txt' if the word has a 'b' in it somewhere.\n",
    "\n",
    "- You may want to re-read the contents in again.\n",
    "- You might want to separate the contents into words.\n",
    "- There are a few different ways of knowing whether a string contains a 'b'. One way is to ask whether the `count` of 'b' in the string is bigger than 0."
   ]
  },
  {
   "cell_type": "code",
   "execution_count": 96,
   "metadata": {},
   "outputs": [
    {
     "data": {
      "text/plain": [
       "['g', 'y', 'y', 'e', 'g', 'g', 'e', 'g', 't', 'g']"
      ]
     },
     "execution_count": 96,
     "metadata": {},
     "output_type": "execute_result"
    }
   ],
   "source": [
    "with open('data/subfolder/big.txt') as f:\n",
    "    contents = f.read()\n",
    "contents = contents.split()\n",
    "result = [word[-1] for word in contents if word.count('b') > 0]\n",
    "result[:10]"
   ]
  },
  {
   "cell_type": "markdown",
   "metadata": {},
   "source": [
    "#### Challenge 14\n",
    "\n",
    "Rewrite challenge 13 as a `for` loop."
   ]
  },
  {
   "cell_type": "code",
   "execution_count": 99,
   "metadata": {},
   "outputs": [
    {
     "data": {
      "text/plain": [
       "['g', 'y', 'y', 'e', 'g', 'g', 'e', 'g', 't', 'g']"
      ]
     },
     "execution_count": 99,
     "metadata": {},
     "output_type": "execute_result"
    }
   ],
   "source": [
    "result = []\n",
    "for word in contents:\n",
    "    if word.count('b') > 0:\n",
    "        last_letter = word[-1]\n",
    "        result.append(last_letter)\n",
    "result[:10]"
   ]
  },
  {
   "cell_type": "markdown",
   "metadata": {},
   "source": [
    "#### Challenge 15\n",
    "\n",
    "Find the last letter of all the words in `italian` that are longer than 6 characters."
   ]
  },
  {
   "cell_type": "code",
   "execution_count": 103,
   "metadata": {},
   "outputs": [],
   "source": [
    "result = [word[-1].lower() for word in italian if len(word) > 6]"
   ]
  },
  {
   "cell_type": "markdown",
   "metadata": {},
   "source": [
    "## Defining functions\n",
    "\n",
    "Sometimes you write code that can be reused multiple times. Rather than copying and pasting it, we can encapsulate the logic in a function, and then just call the function whenever we want to. When we do this, we also abstract away from the knitty-gritty details of how the function works. Here's our code for reading in a file and splitting the contents into a list of words:"
   ]
  },
  {
   "cell_type": "code",
   "execution_count": 115,
   "metadata": {},
   "outputs": [],
   "source": [
    "with open('data/italian.txt') as f:\n",
    "    contents = f.read()\n",
    "contents = contents.split()"
   ]
  },
  {
   "cell_type": "markdown",
   "metadata": {},
   "source": [
    "We'll probably want to do this many times, so let's turn it into a function. Creating a function in Python is called 'defining' a function, and we use the special word `def` to define a function. We give the function a name (here, `tokenize`), and note its arguments (here, `fname`). The function can do whatever we want, but it must end with a `return` statement, which is the value that will be given back to us when we call the function."
   ]
  },
  {
   "cell_type": "code",
   "execution_count": 116,
   "metadata": {
    "collapsed": true
   },
   "outputs": [],
   "source": [
    "def tokenize(fname):\n",
    "    with open(fname) as f:\n",
    "        contents = f.read()\n",
    "    return contents.split()"
   ]
  },
  {
   "cell_type": "markdown",
   "metadata": {},
   "source": [
    "Now I can call my `tokenize` function without worrying about how it works."
   ]
  },
  {
   "cell_type": "code",
   "execution_count": 122,
   "metadata": {
    "collapsed": true
   },
   "outputs": [],
   "source": [
    "italian = tokenize('data/italian.txt')"
   ]
  },
  {
   "cell_type": "code",
   "execution_count": 125,
   "metadata": {},
   "outputs": [],
   "source": [
    "words = tokenize('data/myfile.txt')"
   ]
  },
  {
   "cell_type": "markdown",
   "metadata": {},
   "source": [
    "If I ever needed to change my program (perhaps I want to split by '#' instead of whitespace), I only have to do that in one place.\n",
    "\n",
    "Importantly, when you define a function, it doesn't actually run the code. It just remembers what code to run when you want to run it later.\n",
    "\n",
    "Functions take input (their arguments, between the parentheses) and return values (the thing after the `return`). If your function doesn't have a return statement, it will return a special value of `None`, which is basically Python's \"nothing\" or empty set."
   ]
  },
  {
   "cell_type": "code",
   "execution_count": 127,
   "metadata": {
    "collapsed": true
   },
   "outputs": [],
   "source": [
    "def say_hello():\n",
    "    print('hello')"
   ]
  },
  {
   "cell_type": "code",
   "execution_count": 128,
   "metadata": {},
   "outputs": [
    {
     "name": "stdout",
     "output_type": "stream",
     "text": [
      "hello\n"
     ]
    }
   ],
   "source": [
    "say_hello()"
   ]
  },
  {
   "cell_type": "code",
   "execution_count": 131,
   "metadata": {},
   "outputs": [
    {
     "name": "stdout",
     "output_type": "stream",
     "text": [
      "hello\n"
     ]
    },
    {
     "data": {
      "text/plain": [
       "NoneType"
      ]
     },
     "execution_count": 131,
     "metadata": {},
     "output_type": "execute_result"
    }
   ],
   "source": [
    "x = say_hello()\n",
    "type(x)"
   ]
  },
  {
   "cell_type": "markdown",
   "metadata": {},
   "source": [
    "Function definitions in Python have the following syntax:\n",
    "\n",
    "```\n",
    "def function_name(arg1, arg2, arg3):\n",
    "    do some processing with the args\n",
    "    return something\n",
    "```"
   ]
  },
  {
   "cell_type": "markdown",
   "metadata": {},
   "source": [
    "#### Challenge 16\n",
    "\n",
    "Write a function called `add_then_square` that takes in a number `n`, adds 1 to it and returns the square of that. Test it by calling your function with the argument 5."
   ]
  },
  {
   "cell_type": "code",
   "execution_count": 132,
   "metadata": {
    "collapsed": true
   },
   "outputs": [],
   "source": [
    "def add_then_square(n):\n",
    "    return (n+1)**2"
   ]
  },
  {
   "cell_type": "code",
   "execution_count": 133,
   "metadata": {},
   "outputs": [
    {
     "data": {
      "text/plain": [
       "36"
      ]
     },
     "execution_count": 133,
     "metadata": {},
     "output_type": "execute_result"
    }
   ],
   "source": [
    "add_then_square(5)"
   ]
  },
  {
   "cell_type": "markdown",
   "metadata": {},
   "source": [
    "#### Challenge 17\n",
    "\n",
    "Write a function that takes in a list of strings and returns a list of strings that have 'b' in them. Call your function `has_b`. Test your function by calling in with `italian` as the argument."
   ]
  },
  {
   "cell_type": "code",
   "execution_count": 134,
   "metadata": {
    "collapsed": true
   },
   "outputs": [],
   "source": [
    "def has_b(words):\n",
    "    return [word for word in words if word.count('b') > 0]"
   ]
  },
  {
   "cell_type": "markdown",
   "metadata": {},
   "source": [
    "#### Challenge 18\n",
    "\n",
    "Write a function that takes in a string and returns whether it has a 'b' in it."
   ]
  },
  {
   "cell_type": "code",
   "execution_count": 137,
   "metadata": {
    "collapsed": true
   },
   "outputs": [],
   "source": [
    "def has_b(word):\n",
    "    return word.count('b') > 0"
   ]
  },
  {
   "cell_type": "markdown",
   "metadata": {},
   "source": [
    "- What type of value does it return?"
   ]
  },
  {
   "cell_type": "markdown",
   "metadata": {},
   "source": [
    "#### Challenge 19\n",
    "\n",
    "Generalize the function from challenge 18 to a function that accepts a word and a letter, and returns whether the word has the letter in it."
   ]
  },
  {
   "cell_type": "code",
   "execution_count": 139,
   "metadata": {
    "collapsed": true
   },
   "outputs": [],
   "source": [
    "def has_letter(word, letter):\n",
    "    return word.count(letter) > 0"
   ]
  },
  {
   "cell_type": "code",
   "execution_count": null,
   "metadata": {
    "collapsed": true
   },
   "outputs": [],
   "source": []
  }
 ],
 "metadata": {
  "kernelspec": {
   "display_name": "Python 3",
   "language": "python",
   "name": "python3"
  },
  "language_info": {
   "codemirror_mode": {
    "name": "ipython",
    "version": 3
   },
   "file_extension": ".py",
   "mimetype": "text/x-python",
   "name": "python",
   "nbconvert_exporter": "python",
   "pygments_lexer": "ipython3",
   "version": "3.6.1"
  }
 },
 "nbformat": 4,
 "nbformat_minor": 2
}
