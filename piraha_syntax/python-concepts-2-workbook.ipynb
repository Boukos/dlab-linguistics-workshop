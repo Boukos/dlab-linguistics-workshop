{
 "cells": [
  {
   "cell_type": "markdown",
   "metadata": {},
   "source": [
    "# Python concepts 2\n",
    "\n",
    "In this notebook, we are going to continue to cover all the Python concepts that you will need to complete the Futrell et al. replication. If you haven't already worked through [Python concepts](python-concepts-workbook.ipynb), please find time to do so."
   ]
  },
  {
   "cell_type": "markdown",
   "metadata": {},
   "source": [
    "## Defining functions\n",
    "\n",
    "A function in a programming language is exactly like a function in maths (e.g. the cosine function, or the function $f(x) = x^2$). It takes in some input, does some computation, and gives you back the output. In maths, the functions usually just work on single numbers. But in Python, we have functions that work on many different types of objects. You've been using functions for a while in Python. Here are some examples of functions.\n",
    "\n",
    "#### The `open` function\n",
    "\n",
    "`open` takes in as input a string representing a path to a file, and gives you back as output a `file` object, which you can then read or write."
   ]
  },
  {
   "cell_type": "code",
   "execution_count": 1,
   "metadata": {
    "collapsed": true
   },
   "outputs": [],
   "source": [
    "f = open('data/myfile.txt')"
   ]
  },
  {
   "cell_type": "markdown",
   "metadata": {},
   "source": [
    "#### The `len` function\n",
    "\n",
    "The `len` function tells you how long its argument is. You can pass in many different types as its argument."
   ]
  },
  {
   "cell_type": "code",
   "execution_count": 2,
   "metadata": {},
   "outputs": [
    {
     "data": {
      "text/plain": [
       "5"
      ]
     },
     "execution_count": 2,
     "metadata": {},
     "output_type": "execute_result"
    }
   ],
   "source": [
    "mylist = [1,2,3,4,5]\n",
    "len(mylist)"
   ]
  },
  {
   "cell_type": "code",
   "execution_count": 3,
   "metadata": {},
   "outputs": [
    {
     "data": {
      "text/plain": [
       "15"
      ]
     },
     "execution_count": 3,
     "metadata": {},
     "output_type": "execute_result"
    }
   ],
   "source": [
    "mystring = 'hello everyone!'\n",
    "len(mystring)"
   ]
  },
  {
   "cell_type": "markdown",
   "metadata": {},
   "source": [
    "#### The `min` function\n",
    "\n",
    "`min` can take in arguments in one of two ways. It can either take in a list (or something similar) and it will return to you the smallest element of the list. Or it can take as input two or more objects, and it will give you the smallest one of those."
   ]
  },
  {
   "cell_type": "code",
   "execution_count": 4,
   "metadata": {},
   "outputs": [
    {
     "data": {
      "text/plain": [
       "1"
      ]
     },
     "execution_count": 4,
     "metadata": {},
     "output_type": "execute_result"
    }
   ],
   "source": [
    "mylist = [1,2,3,4,5]\n",
    "min(mylist)"
   ]
  },
  {
   "cell_type": "code",
   "execution_count": 5,
   "metadata": {},
   "outputs": [
    {
     "data": {
      "text/plain": [
       "1"
      ]
     },
     "execution_count": 5,
     "metadata": {},
     "output_type": "execute_result"
    }
   ],
   "source": [
    "min(1,2,3,4,5)"
   ]
  },
  {
   "cell_type": "markdown",
   "metadata": {},
   "source": [
    "#### The `int` function\n",
    "\n",
    "`int` will take an object and try to convert it to an integer. If it doesn't make sense to coerce that object to an integer, it will raise an error."
   ]
  },
  {
   "cell_type": "code",
   "execution_count": 6,
   "metadata": {},
   "outputs": [
    {
     "name": "stdout",
     "output_type": "stream",
     "text": [
      "<class 'float'>\n",
      "<class 'int'>\n"
     ]
    }
   ],
   "source": [
    "x = 12.0\n",
    "print(type(x))\n",
    "y = int(x)\n",
    "print(type(y))"
   ]
  },
  {
   "cell_type": "markdown",
   "metadata": {},
   "source": [
    "#### The `pow` function\n",
    "\n",
    "`pow` is the power function in Python. There's a shorthand for it: `pow(2,4)` is the same as `2**4`, which both raise 2 to the power of 4."
   ]
  },
  {
   "cell_type": "code",
   "execution_count": 7,
   "metadata": {},
   "outputs": [
    {
     "data": {
      "text/plain": [
       "16"
      ]
     },
     "execution_count": 7,
     "metadata": {},
     "output_type": "execute_result"
    }
   ],
   "source": [
    "pow(2, 4)"
   ]
  },
  {
   "cell_type": "markdown",
   "metadata": {},
   "source": [
    "#### The `print` function\n",
    "\n",
    "`print` is a special function that can take just about anything as input, and it will return `None`. But as a side-effect, it prints a representation of that object, normally to your screen."
   ]
  },
  {
   "cell_type": "code",
   "execution_count": 8,
   "metadata": {},
   "outputs": [
    {
     "name": "stdout",
     "output_type": "stream",
     "text": [
      "this is my string\n"
     ]
    },
    {
     "data": {
      "text/plain": [
       "NoneType"
      ]
     },
     "execution_count": 8,
     "metadata": {},
     "output_type": "execute_result"
    }
   ],
   "source": [
    "x = print('this is my string')\n",
    "type(x)"
   ]
  },
  {
   "cell_type": "markdown",
   "metadata": {},
   "source": [
    "#### The `round` function\n",
    "\n",
    "`round` rounds its numeric input to as many decimal places as you want. If you don't tell it how many places to round to, it will round to the nearest integer."
   ]
  },
  {
   "cell_type": "code",
   "execution_count": 9,
   "metadata": {},
   "outputs": [
    {
     "data": {
      "text/plain": [
       "2.35"
      ]
     },
     "execution_count": 9,
     "metadata": {},
     "output_type": "execute_result"
    }
   ],
   "source": [
    "round(2.3456789, 2)"
   ]
  },
  {
   "cell_type": "code",
   "execution_count": 11,
   "metadata": {},
   "outputs": [
    {
     "data": {
      "text/plain": [
       "2.345679"
      ]
     },
     "execution_count": 11,
     "metadata": {},
     "output_type": "execute_result"
    }
   ],
   "source": [
    "round(2.3456789, 6)"
   ]
  },
  {
   "cell_type": "code",
   "execution_count": 12,
   "metadata": {},
   "outputs": [
    {
     "data": {
      "text/plain": [
       "2"
      ]
     },
     "execution_count": 12,
     "metadata": {},
     "output_type": "execute_result"
    }
   ],
   "source": [
    "round(2.3456789)"
   ]
  },
  {
   "cell_type": "markdown",
   "metadata": {},
   "source": [
    "#### The `sorted` function\n",
    "\n",
    "`sorted` takes in a list (or something similar) and returns a sorted version of it. `sorted` knows how to sort numbers and strings already."
   ]
  },
  {
   "cell_type": "code",
   "execution_count": 13,
   "metadata": {},
   "outputs": [
    {
     "data": {
      "text/plain": [
       "[0, 1, 3, 3, 6, 7, 9]"
      ]
     },
     "execution_count": 13,
     "metadata": {},
     "output_type": "execute_result"
    }
   ],
   "source": [
    "mylist = [6,3,9,1,3,7,0]\n",
    "sorted(mylist)"
   ]
  },
  {
   "cell_type": "code",
   "execution_count": 15,
   "metadata": {},
   "outputs": [
    {
     "name": "stdout",
     "output_type": "stream",
     "text": [
      "['this', 'is', 'going', 'to', 'be', 'a', 'list', 'of', 'strings', 'in', 'a', 'second']\n",
      "['a', 'a', 'be', 'going', 'in', 'is', 'list', 'of', 'second', 'strings', 'this', 'to']\n"
     ]
    }
   ],
   "source": [
    "mylist = 'this is going to be a list of strings in a second'.split()\n",
    "print(mylist)\n",
    "print(sorted(mylist))"
   ]
  },
  {
   "cell_type": "markdown",
   "metadata": {},
   "source": [
    "All these functions come built in with Python. They are called [built-in function](https://docs.python.org/3/library/functions.html). They are available to you as soon as you start Python (whether from the terminal, or a script, or in a Jupyter notebook). You never have to import them. These functions are very general. They come \"built in\" to Python because everyone needs them. But we can't do everything we want with just these functions. As a linguist, you may want a function that takes in a corpus and returns all the nouns. Or a function that takes in a path to a folder on your computer and returns all the files in that directory that have more than 100 words. In most cases, we have to create our own functions that suit our purpose. **In Python, \"creating\" a function is called \"defining\" it.**\n",
    "\n",
    "Let's define a function."
   ]
  },
  {
   "cell_type": "code",
   "execution_count": 22,
   "metadata": {
    "collapsed": true
   },
   "outputs": [],
   "source": [
    "def add_two(x):\n",
    "    return x + 2"
   ]
  },
  {
   "cell_type": "markdown",
   "metadata": {},
   "source": [
    "After we have defined our function, we can \"call\" it. \"Calling\" a function is a fancy way of saying \"using\" a function. Let's call our new function with the argument `5`."
   ]
  },
  {
   "cell_type": "code",
   "execution_count": 23,
   "metadata": {},
   "outputs": [
    {
     "data": {
      "text/plain": [
       "7"
      ]
     },
     "execution_count": 23,
     "metadata": {},
     "output_type": "execute_result"
    }
   ],
   "source": [
    "add_two(5)"
   ]
  },
  {
   "cell_type": "markdown",
   "metadata": {},
   "source": [
    "The syntax for defining a function in Python is this:\n",
    "\n",
    "```\n",
    "def function_name(input):\n",
    "    ...\n",
    "    return output\n",
    "```\n",
    "\n",
    "We begin with the special keyword `def`. Then we put the name we want our new function to have. We follow that with parentheses. In between the parentheses, we put the arguments we want our function to take. If we want a function that takes more than one argument, we separate them with commas. Then we finish that line with a semi-colon. Everything after that must be indented, normally using four spaces. We can put whatever code we want where the `...` is. This is where the work is done. After we've computed whatever we want, we use the keyword `return` followed by whatever we want the function to return. Let's see some examples"
   ]
  },
  {
   "cell_type": "code",
   "execution_count": 8,
   "metadata": {
    "collapsed": true
   },
   "outputs": [],
   "source": [
    "def square(n):\n",
    "    return n**2"
   ]
  },
  {
   "cell_type": "markdown",
   "metadata": {},
   "source": [
    "You can read out this function definition as follows:\n",
    "\n",
    "> Define a function called `square` that takes in an argument that will be referred to hereafter as `n`. Whenever I call this argument in the future, it will `return` to me `n**2` (which is `n` squared)."
   ]
  },
  {
   "cell_type": "code",
   "execution_count": 25,
   "metadata": {},
   "outputs": [
    {
     "data": {
      "text/plain": [
       "4"
      ]
     },
     "execution_count": 25,
     "metadata": {},
     "output_type": "execute_result"
    }
   ],
   "source": [
    "square(2)"
   ]
  },
  {
   "cell_type": "code",
   "execution_count": 26,
   "metadata": {
    "collapsed": true
   },
   "outputs": [],
   "source": [
    "def add_one_then_square(t):\n",
    "    return (t+1)**2"
   ]
  },
  {
   "cell_type": "markdown",
   "metadata": {},
   "source": [
    "You can read out this function definition as follows:\n",
    "\n",
    "> Define a function called `add_one_then_square` that takes in an argument that will be referred to hereafter as `t`. Whenever I call this argument in the future, it will `return` to me `(t+1)**2` (which is `t` plus one, all squared)."
   ]
  },
  {
   "cell_type": "code",
   "execution_count": 27,
   "metadata": {},
   "outputs": [
    {
     "data": {
      "text/plain": [
       "25"
      ]
     },
     "execution_count": 27,
     "metadata": {},
     "output_type": "execute_result"
    }
   ],
   "source": [
    "add_one_then_square(4)"
   ]
  },
  {
   "cell_type": "markdown",
   "metadata": {},
   "source": [
    "When you define a function, Python doesn't run the body of the function. All it does is create a new variable with the function name and remember where to look whenever you call it."
   ]
  },
  {
   "cell_type": "code",
   "execution_count": 28,
   "metadata": {
    "collapsed": true
   },
   "outputs": [],
   "source": [
    "def add_one_then_square(s):\n",
    "    return square(s+1)"
   ]
  },
  {
   "cell_type": "markdown",
   "metadata": {},
   "source": [
    "Here, we are overwriting the name `add_one_then_square`. We are using our `square` function instead of the usual `s**2`."
   ]
  },
  {
   "cell_type": "code",
   "execution_count": 29,
   "metadata": {},
   "outputs": [
    {
     "data": {
      "text/plain": [
       "16"
      ]
     },
     "execution_count": 29,
     "metadata": {},
     "output_type": "execute_result"
    }
   ],
   "source": [
    "add_one_then_square(3)"
   ]
  },
  {
   "cell_type": "code",
   "execution_count": 30,
   "metadata": {
    "collapsed": true
   },
   "outputs": [],
   "source": [
    "def has_b(word):\n",
    "    return word.count('b') > 0"
   ]
  },
  {
   "cell_type": "code",
   "execution_count": 31,
   "metadata": {},
   "outputs": [
    {
     "data": {
      "text/plain": [
       "False"
      ]
     },
     "execution_count": 31,
     "metadata": {},
     "output_type": "execute_result"
    }
   ],
   "source": [
    "has_b('hello')"
   ]
  },
  {
   "cell_type": "code",
   "execution_count": 32,
   "metadata": {},
   "outputs": [
    {
     "data": {
      "text/plain": [
       "True"
      ]
     },
     "execution_count": 32,
     "metadata": {},
     "output_type": "execute_result"
    }
   ],
   "source": [
    "has_b('baboon')"
   ]
  },
  {
   "cell_type": "code",
   "execution_count": 34,
   "metadata": {
    "collapsed": true
   },
   "outputs": [],
   "source": [
    "def sign(k):\n",
    "    if k < 0:\n",
    "        return 'negative'\n",
    "    elif k > 0:\n",
    "        return 'positive'\n",
    "    else:\n",
    "        return 'zero'"
   ]
  },
  {
   "cell_type": "markdown",
   "metadata": {},
   "source": [
    "We can use conditional statements in functions. At most one of these return statements will ever be run. Also, we can `return` whatever we want. Here, we are returning strings."
   ]
  },
  {
   "cell_type": "code",
   "execution_count": 35,
   "metadata": {},
   "outputs": [
    {
     "data": {
      "text/plain": [
       "'positive'"
      ]
     },
     "execution_count": 35,
     "metadata": {},
     "output_type": "execute_result"
    }
   ],
   "source": [
    "sign(4)"
   ]
  },
  {
   "cell_type": "code",
   "execution_count": 36,
   "metadata": {
    "collapsed": true
   },
   "outputs": [],
   "source": [
    "def long_function(n):\n",
    "    intermediate_value = n + 1\n",
    "    another_value = 3 * intermediate_value + 4\n",
    "    second_last_value = (another_value / 8) ** 3\n",
    "    last_value = square(round(second_last_value))\n",
    "    return last_value"
   ]
  },
  {
   "cell_type": "markdown",
   "metadata": {},
   "source": [
    "The body of a function can be as long as we want. We can create as many variables along the way as we want. But notice that none of those intermediate values that we create are available to us outside of that function. In fact, the argument that we pass in is not available to us called `n` outside of the function. However, within the function, we refer to the argument using the name that we gave it at the start."
   ]
  },
  {
   "cell_type": "code",
   "execution_count": 37,
   "metadata": {},
   "outputs": [
    {
     "data": {
      "text/plain": [
       "441"
      ]
     },
     "execution_count": 37,
     "metadata": {},
     "output_type": "execute_result"
    }
   ],
   "source": [
    "long_function(5)"
   ]
  },
  {
   "cell_type": "code",
   "execution_count": 38,
   "metadata": {},
   "outputs": [
    {
     "ename": "NameError",
     "evalue": "name 'intermediate_value' is not defined",
     "output_type": "error",
     "traceback": [
      "\u001b[0;31m---------------------------------------------------------------------------\u001b[0m",
      "\u001b[0;31mNameError\u001b[0m                                 Traceback (most recent call last)",
      "\u001b[0;32m<ipython-input-38-b1d1f2ece5b7>\u001b[0m in \u001b[0;36m<module>\u001b[0;34m()\u001b[0m\n\u001b[0;32m----> 1\u001b[0;31m \u001b[0mintermediate_value\u001b[0m\u001b[0;34m\u001b[0m\u001b[0m\n\u001b[0m",
      "\u001b[0;31mNameError\u001b[0m: name 'intermediate_value' is not defined"
     ]
    }
   ],
   "source": [
    "intermediate_value"
   ]
  },
  {
   "cell_type": "code",
   "execution_count": 39,
   "metadata": {},
   "outputs": [
    {
     "ename": "NameError",
     "evalue": "name 'n' is not defined",
     "output_type": "error",
     "traceback": [
      "\u001b[0;31m---------------------------------------------------------------------------\u001b[0m",
      "\u001b[0;31mNameError\u001b[0m                                 Traceback (most recent call last)",
      "\u001b[0;32m<ipython-input-39-fe13119fb084>\u001b[0m in \u001b[0;36m<module>\u001b[0;34m()\u001b[0m\n\u001b[0;32m----> 1\u001b[0;31m \u001b[0mn\u001b[0m\u001b[0;34m\u001b[0m\u001b[0m\n\u001b[0m",
      "\u001b[0;31mNameError\u001b[0m: name 'n' is not defined"
     ]
    }
   ],
   "source": [
    "n"
   ]
  },
  {
   "cell_type": "code",
   "execution_count": 46,
   "metadata": {
    "collapsed": true
   },
   "outputs": [],
   "source": [
    "def two_argument_function(x, y):\n",
    "    if x > y:\n",
    "        return 7\n",
    "    elif x < y:\n",
    "        return min(x, 5)\n",
    "    else:\n",
    "        return max(y, 9)"
   ]
  },
  {
   "cell_type": "code",
   "execution_count": 47,
   "metadata": {},
   "outputs": [
    {
     "data": {
      "text/plain": [
       "9"
      ]
     },
     "execution_count": 47,
     "metadata": {},
     "output_type": "execute_result"
    }
   ],
   "source": [
    "two_argument_function(2, 2)"
   ]
  },
  {
   "cell_type": "markdown",
   "metadata": {},
   "source": [
    "#### Challenge 1\n",
    "\n",
    "What type is the function `square`? What type is the function `len`?"
   ]
  },
  {
   "cell_type": "code",
   "execution_count": 1,
   "metadata": {},
   "outputs": [],
   "source": [
    "## FILL IN THE BLANKS"
   ]
  },
  {
   "cell_type": "markdown",
   "metadata": {},
   "source": [
    "- Can you do `f = square`?\n",
    "- What does `f(5)` mean then?"
   ]
  },
  {
   "cell_type": "markdown",
   "metadata": {},
   "source": [
    "#### Challenge 2\n",
    "\n",
    "Define a function that takes in as an argument a number and subtracts 4 from it. Make sure to give it a sensible name. Test your function by calling it on the argument `5`."
   ]
  },
  {
   "cell_type": "code",
   "execution_count": 2,
   "metadata": {},
   "outputs": [],
   "source": [
    "## FILL IN THE BLANKS"
   ]
  },
  {
   "cell_type": "markdown",
   "metadata": {},
   "source": [
    "- What is the type of `subtract_four(3)`?\n",
    "- What happens if you call your function on `'hello'`?\n",
    "- Write a function that takes in `a` and `b`, and returns `b - a`."
   ]
  },
  {
   "cell_type": "markdown",
   "metadata": {},
   "source": [
    "#### Challenge 3\n",
    "\n",
    "Write a function that takes in three arguments. If all the arguments are the same, it should return the string `'same'`. If they're different, it should return the largest one. Give it a sensible name. Test it on the arguments `2, 2, 2` and `2, 3, 4` to make sure it does the right thing."
   ]
  },
  {
   "cell_type": "code",
   "execution_count": 51,
   "metadata": {
    "collapsed": true
   },
   "outputs": [],
   "source": [
    "## FILL IN THE BLANKS"
   ]
  },
  {
   "cell_type": "code",
   "execution_count": 3,
   "metadata": {},
   "outputs": [],
   "source": [
    "## FILL IN THE BLANKS"
   ]
  },
  {
   "cell_type": "markdown",
   "metadata": {},
   "source": [
    "- What is the type of the return value if the three arguments are all the same?"
   ]
  },
  {
   "cell_type": "markdown",
   "metadata": {},
   "source": [
    "#### Challenge 4\n",
    "\n",
    "Write a function that takes in a string representing a file path. The function should open that file, read in the contents, split the contents by whitespace, and return all the words that start with 'b'. Test it on `data/italian.txt`."
   ]
  },
  {
   "cell_type": "code",
   "execution_count": 4,
   "metadata": {
    "collapsed": true
   },
   "outputs": [],
   "source": [
    "## FILL IN THE BLANKS"
   ]
  },
  {
   "cell_type": "code",
   "execution_count": 5,
   "metadata": {},
   "outputs": [],
   "source": [
    "## FILL IN THE BLANKS"
   ]
  },
  {
   "cell_type": "markdown",
   "metadata": {},
   "source": [
    "- What type does your function take as input and what type does it return?\n",
    "- Write a more general version of this function that takes in a file path and a letter, and return all words in that file that begin with that letter."
   ]
  },
  {
   "cell_type": "markdown",
   "metadata": {},
   "source": [
    "#### Challenge 5\n",
    "\n",
    "Write and test a function that takes in a file path and returns the average number of characters per word in that file."
   ]
  },
  {
   "cell_type": "code",
   "execution_count": 62,
   "metadata": {
    "collapsed": true
   },
   "outputs": [],
   "source": [
    "## FILL IN THE BLANKS"
   ]
  },
  {
   "cell_type": "code",
   "execution_count": 6,
   "metadata": {},
   "outputs": [],
   "source": [
    "## FILL IN THE BLANKS"
   ]
  },
  {
   "cell_type": "markdown",
   "metadata": {},
   "source": [
    "- Change the function to return its answer rounded to 3 decimal points.\n",
    "- Change the function to print its answer, rather than returning it. What is the return value of this function (i.e. one with no return statement)?"
   ]
  },
  {
   "cell_type": "markdown",
   "metadata": {},
   "source": [
    "#### Challenge 6\n",
    "\n",
    "One of the reasons we define functions is so that we don't have to copy-paste our code. For example, imagine you want to know the proportion of words in a file that have the letter 'b' in them. In fact, you want to know this proportion for each of the three files 'data/italian.txt', 'data/moredata.txt' and 'data/subfolder/big.txt'. Without a function, we might do something like this:"
   ]
  },
  {
   "cell_type": "code",
   "execution_count": 65,
   "metadata": {},
   "outputs": [
    {
     "name": "stdout",
     "output_type": "stream",
     "text": [
      "0.03411280930836537\n",
      "0.023210141046241743\n",
      "0.06039454410214521\n"
     ]
    }
   ],
   "source": [
    "with open('data/italian.txt') as f:\n",
    "    contents = f.read()\n",
    "text = contents.split()\n",
    "words_with_b = [word for word in text if word.count('b') > 0]\n",
    "proportion = len(words_with_b) / len(text)\n",
    "print(proportion)\n",
    "\n",
    "with open('data/moredata.txt') as f:\n",
    "    contents = f.read()\n",
    "text = contents.split()\n",
    "words_with_b = [word for word in text if word.count('b') > 0]\n",
    "proportion = len(words_with_b) / len(text)\n",
    "print(proportion)\n",
    "\n",
    "with open('data/subfolder/big.txt') as f:\n",
    "    contents = f.read()\n",
    "text = contents.split()\n",
    "words_with_b = [word for word in text if word.count('b') > 0]\n",
    "proportion = len(words_with_b) / len(text)\n",
    "print(proportion)"
   ]
  },
  {
   "cell_type": "markdown",
   "metadata": {},
   "source": [
    "Rewrite this by first defining a function (with a sensible name) and then calling it on three different arguments. Make sure your function `return`s something, rather than just `print`ing it."
   ]
  },
  {
   "cell_type": "code",
   "execution_count": 7,
   "metadata": {},
   "outputs": [],
   "source": [
    "## FILL IN THE BLANKS"
   ]
  },
  {
   "cell_type": "markdown",
   "metadata": {},
   "source": [
    "- Rewrite your function calls as a `for` loop.\n",
    "- Imagine you've decided that you're interested in words that have a 'z' in them. Change the copy-paste version, change the function definition version, and explain why defining functions are better than copy-pasting."
   ]
  },
  {
   "cell_type": "markdown",
   "metadata": {},
   "source": [
    "#### Challenge 7\n",
    "\n",
    "We should always give functions meaningful names, just like we give other variables meaningful names. This makes your code more readable, for others but also for your future self. Imagine you wrote the following code six months ago. Try to figure out what it does."
   ]
  },
  {
   "cell_type": "code",
   "execution_count": 71,
   "metadata": {},
   "outputs": [
    {
     "name": "stdout",
     "output_type": "stream",
     "text": [
      "134.18343780930385\n"
     ]
    }
   ],
   "source": [
    "with open('data/italian.txt') as f:\n",
    "    contents = f.read()\n",
    "n = len([ch for ch in contents if ch == '.'])\n",
    "a = len(contents) / n\n",
    "print(a)"
   ]
  },
  {
   "cell_type": "markdown",
   "metadata": {},
   "source": [
    "Now, rewrite this as a function and give it a name that describes what it returns. If your functions have descriptive names, then your future self can understand your code just by looking at the function **call**, not the function **definition**."
   ]
  },
  {
   "cell_type": "code",
   "execution_count": 8,
   "metadata": {},
   "outputs": [],
   "source": [
    "## FILL IN THE BLANKS"
   ]
  },
  {
   "cell_type": "markdown",
   "metadata": {},
   "source": [
    "What do you think the following code does, without knowing what happens at the function definitions?"
   ]
  },
  {
   "cell_type": "code",
   "execution_count": null,
   "metadata": {
    "collapsed": true
   },
   "outputs": [],
   "source": [
    "## These functions haven't been defined yet, so they won't actually work.\n",
    "raw_text = read('data/moredata.txt')\n",
    "tokens = tokenize(raw_text)\n",
    "cleaned = clean(tokens)\n",
    "nouns = filter_by_pos(cleaned, 'noun')\n",
    "print(avg_len(nouns))"
   ]
  },
  {
   "cell_type": "markdown",
   "metadata": {},
   "source": [
    "#### Challenge 8\n",
    "\n",
    "A key idea in programming is writing modular code. For the time being, this means that each function we define should do a single thing, not many things. Some of the functions we've written so far do more than one thing. For example, the first function from challenge 7 reads in a file, calculates the number of sentences, and returns the average number of characters per sentence. In contrast, the functions in the second part of challenge 7 do one well-defined thing, as indicated by their name. Let's implement these functions.\n",
    "\n",
    "- The `read` function should return a string.\n",
    "- The `tokenize` function should return a list of strings.\n",
    "- `clean` should do something like remove all punctuation, or remove words less than three letters, and return a list of strings.\n",
    "- Ignore `filter_by_pos` for now.\n",
    "- `avg_len` should take in a list of words and return their average length in characters."
   ]
  },
  {
   "cell_type": "code",
   "execution_count": 10,
   "metadata": {},
   "outputs": [],
   "source": [
    "def read(path):\n",
    "    pass\n",
    "    ## FILL IN THE BLANKS"
   ]
  },
  {
   "cell_type": "code",
   "execution_count": 11,
   "metadata": {
    "collapsed": true
   },
   "outputs": [],
   "source": [
    "def tokenize(text):\n",
    "    pass\n",
    "    ## FILL IN THE BLANKS"
   ]
  },
  {
   "cell_type": "code",
   "execution_count": 40,
   "metadata": {
    "collapsed": true
   },
   "outputs": [],
   "source": [
    "def clean(tokens):\n",
    "    pass\n",
    "    ## FILL IN THE BLANKS"
   ]
  },
  {
   "cell_type": "code",
   "execution_count": 41,
   "metadata": {
    "collapsed": true
   },
   "outputs": [],
   "source": [
    "def filter_by_pos(tokens):\n",
    "    pass"
   ]
  },
  {
   "cell_type": "code",
   "execution_count": 12,
   "metadata": {
    "collapsed": true
   },
   "outputs": [],
   "source": [
    "def avg_len(words):\n",
    "    pass\n",
    "    ## FILL IN THE BLANKS"
   ]
  },
  {
   "cell_type": "markdown",
   "metadata": {},
   "source": [
    "#### Challenge 9\n",
    "\n",
    "Using descriptive names for functions is a great way to help people understand our code. Sometimes, we need to provide more information than can fit in a name. For this, we use a docstring. A docstring is a string that goes immediately after the first line of a function definition. We use triple-quotes so that we can write on more than one line. We use a docstring to record information on what our function does and how to use it."
   ]
  },
  {
   "cell_type": "code",
   "execution_count": 43,
   "metadata": {},
   "outputs": [
    {
     "data": {
      "text/plain": [
       "['!Arvela',\n",
       " '!Bighare?',\n",
       " \"!Boots's\",\n",
       " '!Buck',\n",
       " '!Cookie',\n",
       " '!Cookie.',\n",
       " '!Danae,',\n",
       " '!Deon',\n",
       " '!Gary',\n",
       " '!Gwen']"
      ]
     },
     "execution_count": 43,
     "metadata": {},
     "output_type": "execute_result"
    }
   ],
   "source": [
    "def vocab(path):\n",
    "    \"\"\"\n",
    "    Return the unique words in file stored at `path`.\n",
    "    \n",
    "    `path` is a string representing the location of the file on the computer.\n",
    "    The `set` function used below takes a list (or similar) and returns a \n",
    "    set object, with doesn't have any duplicates. I also sort the set so \n",
    "    that the elements are in alphabetical order.\n",
    "    \n",
    "    TODO: I should use my `read` and `tokenize` functions here.\n",
    "    \"\"\"\n",
    "    with open(path) as f:\n",
    "        contents = f.read()\n",
    "    tokens = contents.split()\n",
    "    unique = set(tokens)\n",
    "    return sorted(unique)\n",
    "\n",
    "vocab('data/moredata.txt')[:10]"
   ]
  },
  {
   "cell_type": "markdown",
   "metadata": {},
   "source": [
    "Define and test a function that calculates the proportion of characters in a file that are 'p', 't' or 'k'. Write a docstring describing what the function does, some notes for the user on the input and output, and anything else you feel necessary. "
   ]
  },
  {
   "cell_type": "code",
   "execution_count": 13,
   "metadata": {},
   "outputs": [],
   "source": [
    "## FILL IN THE BLANKS"
   ]
  },
  {
   "cell_type": "markdown",
   "metadata": {},
   "source": [
    "- There are conventions in Python on how to structure your docstrings. I like [numpydoc](https://github.com/numpy/numpy/blob/master/doc/HOWTO_DOCUMENT.rst.txt). Google has their [own](http://sphinxcontrib-napoleon.readthedocs.io/en/latest/example_google.html) which is also popular. [Here's](https://stackoverflow.com/questions/3898572/what-is-the-standard-python-docstring-format) a good comparison of some different conventions. It really doesn't matter what you use, as long as you're i) consistent, ii) you're writing docstrings."
   ]
  },
  {
   "cell_type": "markdown",
   "metadata": {},
   "source": [
    "#### Challenge 10\n",
    "\n",
    "How many arguments does `preach` have? Why does it work? What value does it return? Answer the same questions for `big_function`. `big_function` shows that there can be an arbitrary relationship between the arguments and the return value, even **no** relationship."
   ]
  },
  {
   "cell_type": "code",
   "execution_count": 19,
   "metadata": {
    "collapsed": true
   },
   "outputs": [],
   "source": [
    "def preach():\n",
    "    print('Linguistics is the best.')"
   ]
  },
  {
   "cell_type": "code",
   "execution_count": 20,
   "metadata": {},
   "outputs": [
    {
     "name": "stdout",
     "output_type": "stream",
     "text": [
      "Linguistics is the best.\n"
     ]
    }
   ],
   "source": [
    "preach()"
   ]
  },
  {
   "cell_type": "code",
   "execution_count": 21,
   "metadata": {
    "collapsed": true
   },
   "outputs": [],
   "source": [
    "def big_function(x, y, z):\n",
    "    return 7"
   ]
  },
  {
   "cell_type": "code",
   "execution_count": 22,
   "metadata": {},
   "outputs": [
    {
     "data": {
      "text/plain": [
       "7"
      ]
     },
     "execution_count": 22,
     "metadata": {},
     "output_type": "execute_result"
    }
   ],
   "source": [
    "big_function(1, 'hello', preach)"
   ]
  },
  {
   "cell_type": "markdown",
   "metadata": {},
   "source": [
    "- Why is the return value of `preach` `None`?\n",
    "- Can a function return a function as its return value?"
   ]
  },
  {
   "cell_type": "markdown",
   "metadata": {},
   "source": [
    "#### Challenge 11\n",
    "\n",
    "Many functions in Python have lots of arguments, but you don't always have to give all of them when you call it. For example, the `round` function we saw earlier has 2 arguments: the number we want to round and the number of decimal points to round to. But if we don't give both arguments, `round` will assume we want to round to the nearest integer. "
   ]
  },
  {
   "cell_type": "code",
   "execution_count": 23,
   "metadata": {},
   "outputs": [
    {
     "data": {
      "text/plain": [
       "2.3457"
      ]
     },
     "execution_count": 23,
     "metadata": {},
     "output_type": "execute_result"
    }
   ],
   "source": [
    "round(2.3456789, 4)"
   ]
  },
  {
   "cell_type": "code",
   "execution_count": 24,
   "metadata": {},
   "outputs": [
    {
     "data": {
      "text/plain": [
       "2"
      ]
     },
     "execution_count": 24,
     "metadata": {},
     "output_type": "execute_result"
    }
   ],
   "source": [
    "round(2.3456789)"
   ]
  },
  {
   "cell_type": "markdown",
   "metadata": {},
   "source": [
    "These are default values for arguments. Default arguments are useful because we can write general functions, but also make them easy to use in the most common way. We give arguments default values when we define the function, as follows."
   ]
  },
  {
   "cell_type": "code",
   "execution_count": 28,
   "metadata": {
    "collapsed": true
   },
   "outputs": [],
   "source": [
    "def has_letter(word, letter='b'):\n",
    "    return word.count(letter) > 0"
   ]
  },
  {
   "cell_type": "code",
   "execution_count": 29,
   "metadata": {},
   "outputs": [
    {
     "data": {
      "text/plain": [
       "True"
      ]
     },
     "execution_count": 29,
     "metadata": {},
     "output_type": "execute_result"
    }
   ],
   "source": [
    "has_letter('hello', 'h')"
   ]
  },
  {
   "cell_type": "code",
   "execution_count": 30,
   "metadata": {},
   "outputs": [
    {
     "data": {
      "text/plain": [
       "False"
      ]
     },
     "execution_count": 30,
     "metadata": {},
     "output_type": "execute_result"
    }
   ],
   "source": [
    "has_letter('example')"
   ]
  },
  {
   "cell_type": "code",
   "execution_count": 31,
   "metadata": {},
   "outputs": [
    {
     "data": {
      "text/plain": [
       "False"
      ]
     },
     "execution_count": 31,
     "metadata": {},
     "output_type": "execute_result"
    }
   ],
   "source": [
    "has_letter('example', 'b')"
   ]
  },
  {
   "cell_type": "markdown",
   "metadata": {},
   "source": [
    "Write and test a function called `length` that calculates the length of a text. It should take as input a file path and an argument called `level`. If `level` is set to the string 'words', then the function returns the length of the text in words. If not, it should return the length of the text in characters. The default argument of `level` should be 'words'."
   ]
  },
  {
   "cell_type": "code",
   "execution_count": 14,
   "metadata": {
    "collapsed": true
   },
   "outputs": [],
   "source": [
    "## FILL IN THE BLANKS"
   ]
  },
  {
   "cell_type": "code",
   "execution_count": 16,
   "metadata": {},
   "outputs": [],
   "source": [
    "## FILL IN THE BLANKS"
   ]
  },
  {
   "cell_type": "code",
   "execution_count": 15,
   "metadata": {},
   "outputs": [],
   "source": [
    "## FILL IN THE BLANKS"
   ]
  },
  {
   "cell_type": "markdown",
   "metadata": {},
   "source": [
    "## Booleans and conditional statements\n",
    "\n",
    "\"Conditional statements\" refers to `if ... else ...`. Conditional statements require boolean values, so let's straighten them out first. Some expressions in Python are `int`s, some are `str`ings, and some are `bool`eans. Booleans are either `True` or `False`.\n",
    "\n",
    "The following code assigns the value of `2` to the name `x`. The type of `x` is `int`."
   ]
  },
  {
   "cell_type": "code",
   "execution_count": 4,
   "metadata": {},
   "outputs": [
    {
     "data": {
      "text/plain": [
       "int"
      ]
     },
     "execution_count": 4,
     "metadata": {},
     "output_type": "execute_result"
    }
   ],
   "source": [
    "x = 2\n",
    "type(x)"
   ]
  },
  {
   "cell_type": "markdown",
   "metadata": {},
   "source": [
    "Now we can ask whether `x` is larger than 0. This can either be `True` or `False`, so the type of this expression is `bool`."
   ]
  },
  {
   "cell_type": "code",
   "execution_count": 8,
   "metadata": {},
   "outputs": [
    {
     "data": {
      "text/plain": [
       "True"
      ]
     },
     "execution_count": 8,
     "metadata": {},
     "output_type": "execute_result"
    }
   ],
   "source": [
    "x > 0"
   ]
  },
  {
   "cell_type": "code",
   "execution_count": 9,
   "metadata": {},
   "outputs": [
    {
     "data": {
      "text/plain": [
       "bool"
      ]
     },
     "execution_count": 9,
     "metadata": {},
     "output_type": "execute_result"
    }
   ],
   "source": [
    "type(x > 0)"
   ]
  },
  {
   "cell_type": "markdown",
   "metadata": {},
   "source": [
    "We can assign the value of the exression `x < 0` to a name, just like any other value. It's still of type `bool`."
   ]
  },
  {
   "cell_type": "code",
   "execution_count": 12,
   "metadata": {},
   "outputs": [
    {
     "data": {
      "text/plain": [
       "False"
      ]
     },
     "execution_count": 12,
     "metadata": {},
     "output_type": "execute_result"
    }
   ],
   "source": [
    "y = x < 0\n",
    "y"
   ]
  },
  {
   "cell_type": "code",
   "execution_count": 13,
   "metadata": {},
   "outputs": [
    {
     "data": {
      "text/plain": [
       "bool"
      ]
     },
     "execution_count": 13,
     "metadata": {},
     "output_type": "execute_result"
    }
   ],
   "source": [
    "type(y)"
   ]
  },
  {
   "cell_type": "markdown",
   "metadata": {},
   "source": [
    "Python lets us compute more complicated boolean expressions. We can use the special keywords `and` and `or` as follows (parentheses are not required by Python in these examples, but I think it makes things clearer for humans):"
   ]
  },
  {
   "cell_type": "code",
   "execution_count": 15,
   "metadata": {},
   "outputs": [
    {
     "data": {
      "text/plain": [
       "True"
      ]
     },
     "execution_count": 15,
     "metadata": {},
     "output_type": "execute_result"
    }
   ],
   "source": [
    "x = 2\n",
    "y = 3\n",
    "(x > 0) and (y > 0)"
   ]
  },
  {
   "cell_type": "markdown",
   "metadata": {},
   "source": [
    "The final line above is `True` because both `x > 0` and `y > 0` are `True`. But if one of them is `False`, the whole thing is `False`."
   ]
  },
  {
   "cell_type": "code",
   "execution_count": 16,
   "metadata": {},
   "outputs": [
    {
     "data": {
      "text/plain": [
       "False"
      ]
     },
     "execution_count": 16,
     "metadata": {},
     "output_type": "execute_result"
    }
   ],
   "source": [
    "(x > 0) and (y < 0)"
   ]
  },
  {
   "cell_type": "markdown",
   "metadata": {},
   "source": [
    "`or` only cares that one of them is `True`. "
   ]
  },
  {
   "cell_type": "code",
   "execution_count": 17,
   "metadata": {},
   "outputs": [
    {
     "data": {
      "text/plain": [
       "True"
      ]
     },
     "execution_count": 17,
     "metadata": {},
     "output_type": "execute_result"
    }
   ],
   "source": [
    "(x > 0) or (y > 0)"
   ]
  },
  {
   "cell_type": "code",
   "execution_count": 18,
   "metadata": {},
   "outputs": [
    {
     "data": {
      "text/plain": [
       "True"
      ]
     },
     "execution_count": 18,
     "metadata": {},
     "output_type": "execute_result"
    }
   ],
   "source": [
    "(x > 0) or (y < 0)"
   ]
  },
  {
   "cell_type": "markdown",
   "metadata": {},
   "source": [
    "We can have as many as we want. Again, the parentheses are not always necessary for Python's syntax, but in complicated booleans I always prefer to have them."
   ]
  },
  {
   "cell_type": "code",
   "execution_count": 21,
   "metadata": {},
   "outputs": [
    {
     "data": {
      "text/plain": [
       "True"
      ]
     },
     "execution_count": 21,
     "metadata": {},
     "output_type": "execute_result"
    }
   ],
   "source": [
    "x = 2\n",
    "y = 3\n",
    "z = 4\n",
    "((x > 0) and (y < 0)) or ((z < 0) or ((x + y) > 0))"
   ]
  },
  {
   "cell_type": "markdown",
   "metadata": {},
   "source": [
    "The simplest conditional statement looks like this. When Python runs this code, it does the following behind the scenes. It first checks to see whether the expression `x > 0` is `True`. If it is, it will execute every line of code indented after the semi-colon. "
   ]
  },
  {
   "cell_type": "code",
   "execution_count": 14,
   "metadata": {},
   "outputs": [
    {
     "name": "stdout",
     "output_type": "stream",
     "text": [
      "x is positive\n"
     ]
    }
   ],
   "source": [
    "x = 2\n",
    "if x > 0:\n",
    "    print('x is positive')"
   ]
  },
  {
   "cell_type": "markdown",
   "metadata": {},
   "source": [
    "If `x > 0` did not evaluate to `True`, then it would skip everything after the semi-colon. Change x to be -2 and see what happens.\n",
    "\n",
    "#### Challenge 12\n",
    "\n",
    "Write a function that checks whether the argument is between 0 and 10. It should return the string 'Yes' if it is, and 'No' if not."
   ]
  },
  {
   "cell_type": "code",
   "execution_count": 17,
   "metadata": {
    "collapsed": true
   },
   "outputs": [],
   "source": [
    "## FILL IN THE BLANKS"
   ]
  },
  {
   "cell_type": "code",
   "execution_count": 18,
   "metadata": {},
   "outputs": [],
   "source": [
    "## FILL IN THE BLANKS"
   ]
  },
  {
   "cell_type": "markdown",
   "metadata": {},
   "source": [
    "It's very common to write functions that check whether their argument meets some criterion/has some property, such as being between 0 and 10 as above. In the challenge above, we returned a string that told us the answer. A more common idiom in Python is to return a boolean value directly. In this example, we don't even need any `if` statements. We just return exactly the value of `0 < x < 10`, which will either be `True` or `False`."
   ]
  },
  {
   "cell_type": "code",
   "execution_count": 26,
   "metadata": {
    "collapsed": true
   },
   "outputs": [],
   "source": [
    "def is_between_0_and_10(x):\n",
    "    return 0 < x < 10"
   ]
  },
  {
   "cell_type": "code",
   "execution_count": 25,
   "metadata": {},
   "outputs": [
    {
     "data": {
      "text/plain": [
       "True"
      ]
     },
     "execution_count": 25,
     "metadata": {},
     "output_type": "execute_result"
    }
   ],
   "source": [
    "is_between_0_and_10(5)"
   ]
  },
  {
   "cell_type": "markdown",
   "metadata": {},
   "source": [
    "You've already seen some functions like this. Many of them have names that start with `is`. Here are some:"
   ]
  },
  {
   "cell_type": "code",
   "execution_count": 27,
   "metadata": {},
   "outputs": [
    {
     "data": {
      "text/plain": [
       "True"
      ]
     },
     "execution_count": 27,
     "metadata": {},
     "output_type": "execute_result"
    }
   ],
   "source": [
    "'this is a string'.islower()"
   ]
  },
  {
   "cell_type": "code",
   "execution_count": 28,
   "metadata": {},
   "outputs": [
    {
     "data": {
      "text/plain": [
       "False"
      ]
     },
     "execution_count": 28,
     "metadata": {},
     "output_type": "execute_result"
    }
   ],
   "source": [
    "'this is a string'.isupper()"
   ]
  },
  {
   "cell_type": "markdown",
   "metadata": {},
   "source": [
    "#### Challenge 13\n",
    "\n",
    "Conditional statements can also have `else` counterparts. If the expression in the `if` statement is not `True`, then Python will always run the code under `else`. Here's an example:"
   ]
  },
  {
   "cell_type": "code",
   "execution_count": 29,
   "metadata": {},
   "outputs": [
    {
     "name": "stdout",
     "output_type": "stream",
     "text": [
      "x is not positive\n"
     ]
    }
   ],
   "source": [
    "x = -1\n",
    "if x > 0:\n",
    "    print('x is positive')\n",
    "else:\n",
    "    print('x is not positive')"
   ]
  },
  {
   "cell_type": "markdown",
   "metadata": {},
   "source": [
    "Write a function that takes a string as its argument. If the string is all lower case, the function should return the length of the string in characters. Otherwise, it should return the length of the string in words."
   ]
  },
  {
   "cell_type": "code",
   "execution_count": 19,
   "metadata": {},
   "outputs": [],
   "source": [
    "## FILL IN THE BLANKS"
   ]
  },
  {
   "cell_type": "markdown",
   "metadata": {},
   "source": [
    "#### Challenge 14\n",
    "\n",
    "In addition to `and` and `or`, there's also `not`. `not` flips the boolean value of whatever it negates. `in` is also useful. `x in y` will return `True` if `x` is in `y`. What exactly it means for something to be `in y` depends on what `y` is. For lists, it's what you'd expect."
   ]
  },
  {
   "cell_type": "code",
   "execution_count": 33,
   "metadata": {},
   "outputs": [
    {
     "data": {
      "text/plain": [
       "True"
      ]
     },
     "execution_count": 33,
     "metadata": {},
     "output_type": "execute_result"
    }
   ],
   "source": [
    "x = 2\n",
    "not x < 0"
   ]
  },
  {
   "cell_type": "code",
   "execution_count": 34,
   "metadata": {},
   "outputs": [
    {
     "data": {
      "text/plain": [
       "True"
      ]
     },
     "execution_count": 34,
     "metadata": {},
     "output_type": "execute_result"
    }
   ],
   "source": [
    "1 in [3,4,1]"
   ]
  },
  {
   "cell_type": "code",
   "execution_count": 35,
   "metadata": {},
   "outputs": [
    {
     "data": {
      "text/plain": [
       "False"
      ]
     },
     "execution_count": 35,
     "metadata": {},
     "output_type": "execute_result"
    }
   ],
   "source": [
    "not 4 in [3,4,1]"
   ]
  },
  {
   "cell_type": "markdown",
   "metadata": {},
   "source": [
    "Write a function that takes as input a file path and a word, and returns whether that word is **not** present in that file. It should return `True` if the word is not in the file."
   ]
  },
  {
   "cell_type": "code",
   "execution_count": 20,
   "metadata": {
    "collapsed": true
   },
   "outputs": [],
   "source": [
    "## FILL IN THE BLANKS"
   ]
  },
  {
   "cell_type": "code",
   "execution_count": 21,
   "metadata": {},
   "outputs": [],
   "source": [
    "## FILL IN THE BLANKS"
   ]
  },
  {
   "cell_type": "markdown",
   "metadata": {},
   "source": [
    "#### Challenge 15\n",
    "\n",
    "Write a function that takes in a list of words and returns a list of those words that have at least two 'e's in them. You may want to write two functions for this, one that calls the other."
   ]
  },
  {
   "cell_type": "code",
   "execution_count": 22,
   "metadata": {
    "collapsed": true
   },
   "outputs": [],
   "source": [
    "## FILL IN THE BLANKS"
   ]
  },
  {
   "cell_type": "code",
   "execution_count": 23,
   "metadata": {
    "collapsed": true
   },
   "outputs": [],
   "source": [
    "## FILL IN THE BLANKS"
   ]
  },
  {
   "cell_type": "markdown",
   "metadata": {},
   "source": [
    "## Advanced topics with functions\n",
    "\n",
    "- Lambda functions\n",
    "- Higher-order functions like sorted, max, min\n",
    "\n",
    "\n",
    "\n",
    "#### Challenge 16\n",
    "\n",
    "Functions are just like any other value in Python. In some circumstances, there are functions that take other functions as arguments. Or some functions return functions as their return value. Below, we can pass in a function as an argument to `sorted`. `sorted` has a default argument `key`. If we don't supply an argument, it sorts things in the way you'd expect (lowest to highest for numbers, alphabetically for strings). But we can pass in a function to the `key` argument. Then, behind the scenes, `sorted` will call that function on all the things we're trying to sort. It will then sort the original arguments according to the output of those function calls."
   ]
  },
  {
   "cell_type": "code",
   "execution_count": 3,
   "metadata": {},
   "outputs": [
    {
     "data": {
      "text/plain": [
       "['a', 'be', 'going', 'is', 'list', 'this', 'to']"
      ]
     },
     "execution_count": 3,
     "metadata": {},
     "output_type": "execute_result"
    }
   ],
   "source": [
    "x = 'this is going to be a list'.split()\n",
    "sorted(x)"
   ]
  },
  {
   "cell_type": "code",
   "execution_count": 4,
   "metadata": {},
   "outputs": [
    {
     "data": {
      "text/plain": [
       "['a', 'is', 'to', 'be', 'this', 'list', 'going']"
      ]
     },
     "execution_count": 4,
     "metadata": {},
     "output_type": "execute_result"
    }
   ],
   "source": [
    "sorted(x, key=len)"
   ]
  },
  {
   "cell_type": "code",
   "execution_count": 6,
   "metadata": {},
   "outputs": [
    {
     "data": {
      "text/plain": [
       "[-4, -3, -2, -1, 0, 1, 2, 3]"
      ]
     },
     "execution_count": 6,
     "metadata": {},
     "output_type": "execute_result"
    }
   ],
   "source": [
    "numbers = [-4, -3, -2, -1, 0, 1, 2, 3]\n",
    "sorted(numbers)"
   ]
  },
  {
   "cell_type": "code",
   "execution_count": 9,
   "metadata": {},
   "outputs": [
    {
     "data": {
      "text/plain": [
       "[0, -1, 1, -2, 2, -3, 3, -4]"
      ]
     },
     "execution_count": 9,
     "metadata": {},
     "output_type": "execute_result"
    }
   ],
   "source": [
    "sorted(numbers, key=square)"
   ]
  }
 ],
 "metadata": {
  "kernelspec": {
   "display_name": "Python 3",
   "language": "python",
   "name": "python3"
  },
  "language_info": {
   "codemirror_mode": {
    "name": "ipython",
    "version": 3
   },
   "file_extension": ".py",
   "mimetype": "text/x-python",
   "name": "python",
   "nbconvert_exporter": "python",
   "pygments_lexer": "ipython3",
   "version": "3.6.1"
  }
 },
 "nbformat": 4,
 "nbformat_minor": 2
}
